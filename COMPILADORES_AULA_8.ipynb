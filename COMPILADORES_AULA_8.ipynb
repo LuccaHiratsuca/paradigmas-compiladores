{
  "nbformat": 4,
  "nbformat_minor": 0,
  "metadata": {
    "colab": {
      "name": "COMPILADORES-AULA 8.ipynb",
      "provenance": [],
      "collapsed_sections": [],
      "include_colab_link": true
    },
    "kernelspec": {
      "name": "python3",
      "display_name": "Python 3"
    }
  },
  "cells": [
    {
      "cell_type": "markdown",
      "metadata": {
        "id": "view-in-github",
        "colab_type": "text"
      },
      "source": [
        "<a href=\"https://colab.research.google.com/github/lucianosilva-github/compiladores/blob/main/COMPILADORES_AULA_8.ipynb\" target=\"_parent\"><img src=\"https://colab.research.google.com/assets/colab-badge.svg\" alt=\"Open In Colab\"/></a>"
      ]
    },
    {
      "cell_type": "markdown",
      "metadata": {
        "id": "EwxHf3E81Qyz"
      },
      "source": [
        "**COMPILADORES - AULA 08**\n",
        "\n",
        "**Prof. Luciano Silva**\n",
        "\n",
        "**OBJETIVOS DA AULA:**\n",
        "\n",
        "*   Continuar o estudo do analisador semântico\n",
        "*   Entender o processo de verificação de tipos\n",
        "*   Aplicar o design pattern Visitor para realizar o processo de verificação de tipos\n"
      ]
    },
    {
      "cell_type": "code",
      "metadata": {
        "id": "CbWUx55j1tLM"
      },
      "source": [
        "!pip install rply"
      ],
      "execution_count": null,
      "outputs": []
    },
    {
      "cell_type": "code",
      "metadata": {
        "id": "AohGQ2yWKDli"
      },
      "source": [
        "from rply import LexerGenerator\n",
        "\n",
        "lg = LexerGenerator()\n",
        "\n",
        "lg.add('NUMBER', r'\\d+')\n",
        "lg.add('PLUS', r'\\+')\n",
        "lg.add('MINUS', r'-')\n",
        "lg.add('MUL', r'\\*')\n",
        "lg.add('DIV', r'/')\n",
        "lg.add('OPEN_PARENS', r'\\(')\n",
        "lg.add('CLOSE_PARENS', r'\\)')\n",
        "\n",
        "lg.ignore('\\s+')\n",
        "\n",
        "lexer = lg.build()"
      ],
      "execution_count": null,
      "outputs": []
    },
    {
      "cell_type": "markdown",
      "metadata": {
        "id": "TkFwbLH8NCuj"
      },
      "source": [
        "A seguir, temos a implementação das classes dos nós da árvore sintática, já com o método accept para receber os visitors:"
      ]
    },
    {
      "cell_type": "code",
      "metadata": {
        "id": "RLcu5RuHDl6B"
      },
      "source": [
        "from rply.token import BaseBox\n",
        "\n",
        "class Expr(BaseBox):\n",
        "    def accept(self, visitor):\n",
        "        method_name = 'visit_{}'.format(self.__class__.__name__.lower())\n",
        "        visit = getattr(visitor, method_name)\n",
        "        return visit(self)\n",
        "\n",
        "class Number(Expr):\n",
        "    def __init__(self, value):\n",
        "        self.value = value\n",
        "\n",
        "\n",
        "class BinaryOp(Expr):\n",
        "    def __init__(self, left, right):\n",
        "        self.left = left\n",
        "        self.right = right\n",
        "\n",
        "class Add(BinaryOp):\n",
        "  pass\n",
        "    \n",
        "\n",
        "class Sub(BinaryOp):\n",
        "  pass\n",
        "   \n",
        "\n",
        "class Mul(BinaryOp):\n",
        "  pass\n",
        "    \n",
        "\n",
        "class Div(BinaryOp):\n",
        "  pass\n",
        "    \n"
      ],
      "execution_count": null,
      "outputs": []
    },
    {
      "cell_type": "markdown",
      "metadata": {
        "id": "H0thJ3zMNmp8"
      },
      "source": [
        "A seguir, temos um visitor que percorre a árvore sintática e resolve a expressão contida nela:"
      ]
    },
    {
      "cell_type": "code",
      "metadata": {
        "id": "1wHqpJ_7NaPf"
      },
      "source": [
        "class Visitor(object):\n",
        "    pass\n",
        "\n",
        "\n",
        "class Eval(Visitor):\n",
        "    def visit_number(self, i):\n",
        "        return i.value\n",
        "        \n",
        "    def visit_add(self, a):\n",
        "        return a.left.accept(self) + a.right.accept(self)\n",
        "\n",
        "    def visit_sub(self, a):\n",
        "        return a.left.accept(self) - a.right.accept(self)\n",
        "\n",
        "    def visit_mul(self, a):\n",
        "        return a.left.accept(self) * a.right.accept(self)\n",
        "\n",
        "    def visit_div(self, a):\n",
        "        return a.left.accept(self) / a.right.accept(self)\n"
      ],
      "execution_count": null,
      "outputs": []
    },
    {
      "cell_type": "markdown",
      "metadata": {
        "id": "G_JyO9SgOPbC"
      },
      "source": [
        "Finalmente, temos o analisador sintático:"
      ]
    },
    {
      "cell_type": "code",
      "metadata": {
        "id": "2MB_wWwWEGcX"
      },
      "source": [
        "from rply import ParserGenerator\n",
        "\n",
        "pg = ParserGenerator(\n",
        "    # A list of all token names, accepted by the lexer.\n",
        "    ['NUMBER', 'OPEN_PARENS', 'CLOSE_PARENS',\n",
        "     'PLUS', 'MINUS', 'MUL', 'DIV'\n",
        "    ],\n",
        "    # A list of precedence rules with ascending precedence, to\n",
        "    # disambiguate ambiguous production rules.\n",
        "    precedence=[\n",
        "        ('left', ['PLUS', 'MINUS']),\n",
        "        ('left', ['MUL', 'DIV'])    \n",
        "    ]\n",
        ")\n",
        "\n",
        "@pg.production('expression : NUMBER')\n",
        "def expression_number(p):\n",
        "    # p is a list of the pieces matched by the right hand side of the\n",
        "    # rule\n",
        "    return Number(int(p[0].getstr()))\n",
        "\n",
        "@pg.production('expression : OPEN_PARENS expression CLOSE_PARENS')\n",
        "def expression_parens(p):\n",
        "    return p[1]\n",
        "\n",
        "@pg.production('expression : expression PLUS expression')\n",
        "@pg.production('expression : expression MINUS expression')\n",
        "@pg.production('expression : expression MUL expression')\n",
        "@pg.production('expression : expression DIV expression')\n",
        "def expression_binop(p):\n",
        "    left = p[0]\n",
        "    right = p[2]\n",
        "    if p[1].gettokentype() == 'PLUS':\n",
        "        return Add(left, right)\n",
        "    elif p[1].gettokentype() == 'MINUS':\n",
        "        return Sub(left, right)\n",
        "    elif p[1].gettokentype() == 'MUL':\n",
        "        return Mul(left, right)\n",
        "    elif p[1].gettokentype() == 'DIV':\n",
        "        return Div(left, right)\n",
        "    else:\n",
        "        raise AssertionError('Oops, this should not be possible!')\n",
        "\n",
        "parser = pg.build()"
      ],
      "execution_count": null,
      "outputs": []
    },
    {
      "cell_type": "markdown",
      "metadata": {
        "id": "rIlF8kYLOT7R"
      },
      "source": [
        "Para testar o visitor, fazemos a análise sintática, geramos a árvore sintática e, finalmente, passamos o visitor de resolução a ela:"
      ]
    },
    {
      "cell_type": "code",
      "metadata": {
        "id": "f9H91s7fFWdB",
        "colab": {
          "base_uri": "https://localhost:8080/"
        },
        "outputId": "05901c6d-78a7-4f83-d3d7-740d7dfd0581"
      },
      "source": [
        "arvore=parser.parse(lexer.lex('1+2*5'))\n",
        "print(arvore.accept(Eval()))"
      ],
      "execution_count": null,
      "outputs": [
        {
          "output_type": "stream",
          "text": [
            "11\n"
          ],
          "name": "stdout"
        }
      ]
    },
    {
      "cell_type": "markdown",
      "metadata": {
        "id": "abAOVnATPDC4"
      },
      "source": [
        "Implemente e teste um visitor para decorar esta árvore sintática, utilizando o seguinte conjunto de regras de tipo:\n",
        "\n",
        "NUMBER --> int\n",
        "\n",
        "int + int --> int\n",
        "\n",
        "int - int --> int\n",
        "\n",
        "int * int --> int\n",
        "\n",
        "int / int --> int\n"
      ]
    },
    {
      "cell_type": "code",
      "metadata": {
        "id": "VCdkh8doWFmZ"
      },
      "source": [
        "class Decorator(Visitor):\n",
        "    def visit_number(self, i):\n",
        "        i.decor_type=\"int\"\n",
        "        \n",
        "          \n",
        "\n",
        "    def visit_add(self, a):\n",
        "        a.left.accept(self)\n",
        "        a.right.accept(self)\n",
        "        if a.left.decor_type==\"int\" and a.right.decor_type==\"int\":\n",
        "          a.decor_type=\"int\"\n",
        "          \n",
        "\n",
        "    def visit_sub(self, a):\n",
        "        a.left.accept(self)\n",
        "        a.right.accept(self)\n",
        "        if a.left.decor_type==\"int\" and a.right.decor_type==\"int\":\n",
        "          a.decor_type=\"int\"\n",
        "\n",
        "    def visit_mul(self, a):\n",
        "        a.left.accept(self)\n",
        "        a.right.accept(self)\n",
        "        if a.left.decor_type==\"int\" and a.right.decor_type==\"int\":\n",
        "          a.decor_type=\"int\"\n",
        "\n",
        "    def visit_add(self, a):\n",
        "        a.left.accept(self)\n",
        "        a.right.accept(self)\n",
        "        if a.left.decor_type==\"int\" and a.right.decor_type==\"int\":\n",
        "          a.decor_type=\"int\""
      ],
      "execution_count": null,
      "outputs": []
    },
    {
      "cell_type": "code",
      "metadata": {
        "id": "OSlGNIbJgghj",
        "colab": {
          "base_uri": "https://localhost:8080/"
        },
        "outputId": "17569b6a-a090-4ff1-ac49-35e2ea7f8723"
      },
      "source": [
        "arvore.accept(Decorator())\n",
        "print(arvore.decor_type)\n"
      ],
      "execution_count": null,
      "outputs": [
        {
          "output_type": "stream",
          "text": [
            "int\n"
          ],
          "name": "stdout"
        }
      ]
    },
    {
      "cell_type": "markdown",
      "metadata": {
        "id": "cVnS1-NfbcWa"
      },
      "source": [
        "**ATIDADE DA AULA PASSADA**\n",
        "\n",
        "Na aula passada, aumentamos a gramática vista em aula para incluir declaração de variáveis com os tipos int e string, assim como um comando de atribuição. Foi solicitada a implementação de dois visitor:\n",
        "\n",
        "(1) um visitor para montar a tabela de símbolos\n",
        "\n",
        "(2) um visitor para decorar a árvore sintática. Suponha que NUMBER tenha o tipo int.\n"
      ]
    },
    {
      "cell_type": "markdown",
      "metadata": {
        "id": "V2DJEWc_b2aH"
      },
      "source": [
        "\\<var-decls\\> ::= \\<var-decl\\> \n",
        "\n",
        "       | \\<var-decl\\> \\<var-decls\\>\n",
        "\n",
        "\\<var-decl\\> ::= \\<type\\> ID ;\n",
        "\n",
        "\\<type\\> ::= int | string \n",
        "\n",
        "\\<atrib\\> ::= ID = \\<expression\\> ;\n",
        "\n",
        "\\<expression\\> ::= ID\n",
        "\n",
        "      | NUMBER\n",
        "\n",
        "      | \\<expression\\> \"+\" \\<expression\\>\n",
        " \n",
        "      | \\<expression\\> \"-\" \\<expression\\>\n",
        " \n",
        "      | \\<expression\\> \"*\" \\<expression\\>\n",
        " \n",
        "      | \\<expression\\> \"/\" \\<expression\\>\n",
        " \n",
        "      | \"(\" <expression> \")\""
      ]
    },
    {
      "cell_type": "markdown",
      "metadata": {
        "id": "7OXTzrwi7o0U"
      },
      "source": [
        "Inicialmente, vamos implementar um analisador léxico para esta gramática aumentada:"
      ]
    },
    {
      "cell_type": "code",
      "metadata": {
        "id": "PnT-UX-_6xUo"
      },
      "source": [
        "from rply import LexerGenerator\n",
        "\n",
        "lg = LexerGenerator()\n",
        "\n",
        "lg.add('NUMBER', r'\\d+')\n",
        "lg.add('PLUS', r'\\+')\n",
        "lg.add('MINUS', r'-')\n",
        "lg.add('MUL', r'\\*')\n",
        "lg.add('DIV', r'/')\n",
        "lg.add('OPEN_PARENS', r'\\(')\n",
        "lg.add('CLOSE_PARENS', r'\\)')\n",
        "\n",
        "lg.add('INT', r'int')\n",
        "lg.add('STRING', r'string')\n",
        "lg.add('ID', r'[a-zA-z][a-zA-z0-9]*')\n",
        "lg.add('EQUALS', r'=')\n",
        "lg.add('SEMICOL', r';')\n",
        "\n",
        "lg.ignore('\\s+')\n",
        "\n",
        "lexer = lg.build()"
      ],
      "execution_count": null,
      "outputs": []
    },
    {
      "cell_type": "markdown",
      "metadata": {
        "id": "TSVSY10PLdX0"
      },
      "source": [
        "A seguir, temos a implementação das classes dos nós da árvore sintática, já com o método accept para receber os visitors:"
      ]
    },
    {
      "cell_type": "code",
      "metadata": {
        "id": "7EIkOycX64Ry"
      },
      "source": [
        "from rply.token import BaseBox\n",
        "\n",
        "class VarDecls(BaseBox):\n",
        "\n",
        "    def __init__(self, decl,decls):\n",
        "        self.decl = decl\n",
        "        self.decls = decls\n",
        "\n",
        "    def accept(self, visitor):\n",
        "        visit_vardecls(self)\n",
        "\n",
        "class VarDecl(BaseBox):\n",
        "\n",
        "    def __init__(self, tp,id):\n",
        "        self.tp = tp\n",
        "        self.id = id\n",
        "\n",
        "    def accept(self, visitor):\n",
        "        visit_vardecl(self)\n",
        "\n",
        "class Atrib(BaseBox):\n",
        "\n",
        "    def __init__(self, id,expr):\n",
        "        self.id = expr\n",
        "        self.expr = expr\n",
        "\n",
        "    def accept(self, visitor):\n",
        "        visit_atrib(self)\n",
        "\n",
        "class Expr(BaseBox):\n",
        "    def accept(self, visitor):\n",
        "        method_name = 'visit_{}'.format(self.__class__.__name__.lower())\n",
        "        visit = getattr(visitor, method_name)\n",
        "        visit(self)\n",
        "\n",
        "class Id(Expr):\n",
        "    def __init__(self, value):\n",
        "        self.value = value\n",
        "\n",
        "class Number(Expr):\n",
        "    def __init__(self, value):\n",
        "        self.value = value\n",
        "\n",
        "\n",
        "class BinaryOp(Expr):\n",
        "    def __init__(self, left, right):\n",
        "        self.left = left\n",
        "        self.right = right\n",
        "\n",
        "class Add(BinaryOp):\n",
        "  pass\n",
        "    \n",
        "\n",
        "class Sub(BinaryOp):\n",
        "  pass\n",
        "   \n",
        "\n",
        "class Mul(BinaryOp):\n",
        "  pass\n",
        "    \n",
        "\n",
        "class Div(BinaryOp):\n",
        "  pass\n",
        "    "
      ],
      "execution_count": null,
      "outputs": []
    },
    {
      "cell_type": "code",
      "metadata": {
        "id": "TAoYMBUSd9R4"
      },
      "source": [
        "#faça sua implementação aqui"
      ],
      "execution_count": null,
      "outputs": []
    }
  ]
}