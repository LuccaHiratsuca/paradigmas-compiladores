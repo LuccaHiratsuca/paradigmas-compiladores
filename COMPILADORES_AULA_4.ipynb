{
  "nbformat": 4,
  "nbformat_minor": 0,
  "metadata": {
    "colab": {
      "name": "COMPILADORES-AULA 4.ipynb",
      "provenance": [],
      "collapsed_sections": [],
      "authorship_tag": "ABX9TyP+Ih4VPBiz6wmz+TaNHdf8",
      "include_colab_link": true
    },
    "kernelspec": {
      "name": "python3",
      "display_name": "Python 3"
    }
  },
  "cells": [
    {
      "cell_type": "markdown",
      "metadata": {
        "id": "view-in-github",
        "colab_type": "text"
      },
      "source": [
        "<a href=\"https://colab.research.google.com/github/lucianosilva-github/compiladores/blob/main/COMPILADORES_AULA_4.ipynb\" target=\"_parent\"><img src=\"https://colab.research.google.com/assets/colab-badge.svg\" alt=\"Open In Colab\"/></a>"
      ]
    },
    {
      "cell_type": "markdown",
      "metadata": {
        "id": "EwxHf3E81Qyz"
      },
      "source": [
        "**COMPILADORES - AULA 04**\n",
        "\n",
        "**Prof. Luciano Silva**\n",
        "\n",
        "**OBJETIVOS DA AULA:**\n",
        "\n",
        "\n",
        "\n",
        "*   Revisar o processo de análise sintática\n",
        "*   Implementar um analisador sintático para a linguagem TINY-C\n",
        "\n"
      ]
    },
    {
      "cell_type": "code",
      "metadata": {
        "id": "CbWUx55j1tLM"
      },
      "source": [
        "!pip install rply"
      ],
      "execution_count": null,
      "outputs": []
    },
    {
      "cell_type": "markdown",
      "metadata": {
        "id": "WDogT1ytJrEt"
      },
      "source": [
        "**REVISÃO DO PROCESSO DE ANÁLISE SINTÁTICA**\n",
        "\n",
        "Na nossa última aula, implementamos um analisador sintático completo para o comando de atribuição com expressões ariméticas envolvendo números inteiros sem sinal:\n",
        "\n",
        "\\<atrib\\>::= ID \"=\" \\<expression\\>\n",
        "\n",
        "\\<expression\\> ::= NUMBER\n",
        "\n",
        "       | \\<expression\\> \"+\" \\<expression\\>\n",
        " \n",
        "       | \\<expression\\> \"-\" \\<expression\\>\n",
        " \n",
        "       | \\<expression\\> \"*\" \\<expression\\>\n",
        " \n",
        "       | \\<expression\\> \"/\" \\<expression\\>\n",
        " \n",
        "       | \"(\" <expression> \")\""
      ]
    },
    {
      "cell_type": "markdown",
      "metadata": {
        "id": "ACSuZUyEJ2oQ"
      },
      "source": [
        "O primeiro passo foi implementar um analisador léxico para esta gramática, mostrado abaixo:\n"
      ]
    },
    {
      "cell_type": "code",
      "metadata": {
        "id": "AohGQ2yWKDli"
      },
      "source": [
        "from rply import LexerGenerator\n",
        "\n",
        "lg = LexerGenerator()\n",
        "\n",
        "lg.add('ID', r'[a-zA-Z][a-zA-Z0-9]*')\n",
        "lg.add('EQUALS', r'=')\n",
        "lg.add('NUMBER', r'\\d+')\n",
        "lg.add('PLUS', r'\\+')\n",
        "lg.add('MINUS', r'-')\n",
        "lg.add('MUL', r'\\*')\n",
        "lg.add('DIV', r'/')\n",
        "lg.add('OPEN_PARENS', r'\\(')\n",
        "lg.add('CLOSE_PARENS', r'\\)')\n",
        "\n",
        "lg.ignore('\\s+')\n",
        "\n",
        "lexer = lg.build()"
      ],
      "execution_count": 2,
      "outputs": []
    },
    {
      "cell_type": "markdown",
      "metadata": {
        "id": "ricXOj1eH7Da"
      },
      "source": [
        "O segundo passo foi implementar as classes em Python para representar os nós da árvore sintática gerada pelo analisador sintático:"
      ]
    },
    {
      "cell_type": "code",
      "metadata": {
        "id": "RLcu5RuHDl6B"
      },
      "source": [
        "from rply.token import BaseBox\n",
        "\n",
        "class Number(BaseBox):\n",
        "    def __init__(self, value):\n",
        "        self.value = value\n",
        "\n",
        "    def eval(self):\n",
        "        return self.value\n",
        "\n",
        "class BinaryOp(BaseBox):\n",
        "    def __init__(self, left, right):\n",
        "        self.left = left\n",
        "        self.right = right\n",
        "\n",
        "class Add(BinaryOp):\n",
        "    def eval(self):\n",
        "        return self.left.eval() + self.right.eval()\n",
        "\n",
        "class Sub(BinaryOp):\n",
        "    def eval(self):\n",
        "        return self.left.eval() - self.right.eval()\n",
        "\n",
        "class Mul(BinaryOp):\n",
        "    def eval(self):\n",
        "        return self.left.eval() * self.right.eval()\n",
        "\n",
        "class Div(BinaryOp):\n",
        "    def eval(self):\n",
        "        return self.left.eval() / self.right.eval()\n",
        "\n",
        "class Attrib(BaseBox):\n",
        "    def __init__(self, id, expression):\n",
        "        self.id = id\n",
        "        self.expression = expression"
      ],
      "execution_count": 3,
      "outputs": []
    },
    {
      "cell_type": "markdown",
      "metadata": {
        "id": "3OEfEiOCIVxX"
      },
      "source": [
        "Finalmente, foi implementado o analisado sintático para o comando de atribuição:"
      ]
    },
    {
      "cell_type": "code",
      "metadata": {
        "id": "2MB_wWwWEGcX"
      },
      "source": [
        "from rply import ParserGenerator\n",
        "\n",
        "pg = ParserGenerator(\n",
        "    # A list of all token names, accepted by the lexer.\n",
        "    ['NUMBER', 'OPEN_PARENS', 'CLOSE_PARENS',\n",
        "     'PLUS', 'MINUS', 'MUL', 'DIV','ID','EQUALS'\n",
        "    ],\n",
        "    # A list of precedence rules with ascending precedence, to\n",
        "    # disambiguate ambiguous production rules.\n",
        "    precedence=[\n",
        "        ('left', ['PLUS', 'MINUS']),\n",
        "        ('left', ['MUL', 'DIV'])    \n",
        "    ]\n",
        ")\n",
        "\n",
        "# regra <atrib>::= ID \"=\" <expression>\n",
        "\n",
        "@pg.production('atrib : ID EQUALS expression')\n",
        "def attrib(p):\n",
        "  return Attrib(p[0].getstr(),p[2])\n",
        "\n",
        "@pg.production('expression : NUMBER')\n",
        "def expression_number(p):\n",
        "    # p is a list of the pieces matched by the right hand side of the\n",
        "    # rule\n",
        "    return Number(int(p[0].getstr()))\n",
        "\n",
        "@pg.production('expression : OPEN_PARENS expression CLOSE_PARENS')\n",
        "def expression_parens(p):\n",
        "    return p[1]\n",
        "\n",
        "@pg.production('expression : expression PLUS expression')\n",
        "@pg.production('expression : expression MINUS expression')\n",
        "@pg.production('expression : expression MUL expression')\n",
        "@pg.production('expression : expression DIV expression')\n",
        "def expression_binop(p):\n",
        "    left = p[0]\n",
        "    right = p[2]\n",
        "    if p[1].gettokentype() == 'PLUS':\n",
        "        return Add(left, right)\n",
        "    elif p[1].gettokentype() == 'MINUS':\n",
        "        return Sub(left, right)\n",
        "    elif p[1].gettokentype() == 'MUL':\n",
        "        return Mul(left, right)\n",
        "    elif p[1].gettokentype() == 'DIV':\n",
        "        return Div(left, right)\n",
        "    else:\n",
        "        raise AssertionError('Oops, this should not be possible!')\n",
        "\n",
        "parser = pg.build()"
      ],
      "execution_count": 4,
      "outputs": []
    },
    {
      "cell_type": "markdown",
      "metadata": {
        "id": "XaWSNLQeJG8F"
      },
      "source": [
        "Realizamos um teste com um comando de atribuição:"
      ]
    },
    {
      "cell_type": "code",
      "metadata": {
        "id": "f9H91s7fFWdB"
      },
      "source": [
        "arvore=parser.parse(lexer.lex('x=1+2*3'))\n",
        "print(arvore)\n",
        "print(arvore.id)\n",
        "print(arvore.expression.eval())"
      ],
      "execution_count": null,
      "outputs": []
    },
    {
      "cell_type": "markdown",
      "metadata": {
        "id": "f92WP_ZgMEpq"
      },
      "source": [
        "**EXERCÍCIO**\n",
        "\n",
        "*Implementar e testar um analisador sintático para a gramática da linguagem TINY-C. Todos os nós da árvore sintática devem implementar o método print que, quando invocado, deve mostrar todo o conteúdo armazenado nos seus atributos.*\n",
        "\n",
        "\n",
        "\n",
        "\n",
        "program ::= function (function)*\n",
        "\n",
        "function ::= type_specifier id ‘(‘ param_decl_list ‘)’ compound_stmt\n",
        "\n",
        "type_specifier ::= int | char\n",
        "\n",
        "param_decl_list ::= parameter_decl (‘,’ parameter_decl )*\n",
        "\n",
        "param_decl ::= type_specifier id\n",
        "\n",
        "compound_stmt ::= ‘{‘ (var_decl stmt)? ‘}’\n",
        "\n",
        "var_decl ::= type_specifier var_decl_list ‘;’\n",
        "\n",
        "var_decl_list ::= variable_id ( ‘,’ variable_id)*\n",
        "\n",
        "variable_id ::= id ( ‘=’ expr )? | id '[' num ']'\n",
        "\n",
        "stmt ::= compound_stmt | cond_stmt | while_stmt | break ‘;’ | continue ‘;’ | return expr ‘;’ | readint ‘(‘ id ‘)’ ‘;’ | writeint ‘(‘ expr ‘)’ ‘;’\n",
        "\n",
        "cond_stmt ::= if ‘(‘ expr ‘)’ stmt (else stmt)?\n",
        "\n",
        "while_stmt ::= while ‘(‘ expr ‘)’ stmt\n",
        "\n",
        "expr ::= id ‘=’ expr | condition\n",
        "\n",
        "condition ::= disjunction | disjunction ‘?’ expr ‘:’ condition\n",
        "\n",
        "disjunction ::= conjunction | disjunction ‘||’ conjunction\n",
        "\n",
        "conjunction ::= comparison | conjunction ‘&&’ comparison\n",
        "\n",
        "comparison ::= relation | relation ‘==’ relation\n",
        "\n",
        "relation ::= sum | sum (‘<’ | ‘>’) sum\n",
        "\n",
        "sum ::= sum ‘+’ term | sum ‘-’ term | term\n",
        "\n",
        "term ::= term ‘*’ factor | term ‘/’ factor | term ‘%’ factor | factor\n",
        "\n",
        "factor ::= ‘!’ factor | ‘-’ factor | primary\n",
        "\n",
        "primary ::= num | charconst | id | ‘(‘ expr ‘)’ "
      ]
    },
    {
      "cell_type": "markdown",
      "metadata": {
        "id": "KBveMsvXODTx"
      },
      "source": [
        "A implementação do analisador léxico está disponível abaixo:"
      ]
    },
    {
      "cell_type": "code",
      "metadata": {
        "id": "pbxTHyNxOqU1"
      },
      "source": [
        "from rply import LexerGenerator\n",
        "\n",
        "lg = LexerGenerator()\n",
        "\n",
        "lg.add('INT', r'int')\n",
        "lg.add('CHAR', r'char')\n",
        "lg.add('BREAK', r'break')\n",
        "lg.add('CONTINUE', r'continue')\n",
        "lg.add('RETURN', r'return')\n",
        "lg.add('READINT', r'readint')\n",
        "lg.add('WRITEINT', r'writeint')\n",
        "lg.add('IF', r'if')\n",
        "lg.add('WHILE', r'while')\n",
        "lg.add('ID', r'[a-zA-Z][a-zA-Z0-9]*')\n",
        "lg.add('OPEN_PAR', r'\\(')\n",
        "lg.add('CLOSE_PAR', r'\\)')\n",
        "lg.add('OPEN_COL', r'\\[')\n",
        "lg.add('CLOSE_COL', r'\\]')\n",
        "lg.add('VIRG', r'\\,')\n",
        "lg.add('OPEN_CH', r'\\{')\n",
        "lg.add('CLOSE_CH', r'\\}')\n",
        "lg.add('PVIRG', r'\\;')\n",
        "lg.add('COMPEQUALS', r'==')\n",
        "lg.add('COMPMAIOR', r'\\>')\n",
        "lg.add('COMPMENOR', r'\\<')\n",
        "lg.add('EQUALS', r'=')\n",
        "lg.add('INTERROG', r'\\?')\n",
        "lg.add('DOISP', r'\\:')\n",
        "lg.add('DISJ', r'\\|\\|')\n",
        "lg.add('CONJ', r'&&')\n",
        "lg.add('NOT', r'\\!')\n",
        "lg.add('NUMBER', r'\\d+')\n",
        "lg.add('CHARCONST', r'\\'\\S\\'')\n",
        "lg.add('PLUS', r'\\+')\n",
        "lg.add('MINUS', r'-')\n",
        "lg.add('MUL', r'\\*')\n",
        "lg.add('DIV', r'/')\n",
        "lg.add('MOD', r'\\%')\n",
        "\n",
        "lg.ignore('\\s+')\n",
        "\n",
        "lexer = lg.build()"
      ],
      "execution_count": 9,
      "outputs": []
    },
    {
      "cell_type": "code",
      "metadata": {
        "id": "03DUDIlxPOid"
      },
      "source": [
        "#implemente suas classes dos nós da árvore sintática aqui"
      ],
      "execution_count": null,
      "outputs": []
    },
    {
      "cell_type": "code",
      "metadata": {
        "id": "V9UFtAf5PXh-"
      },
      "source": [
        "#implemente seu analisador sintático aqui"
      ],
      "execution_count": null,
      "outputs": []
    },
    {
      "cell_type": "code",
      "metadata": {
        "id": "rY5IWrHxPdxQ"
      },
      "source": [
        "#teste seu analisador com um pequeno programa em TINY-C."
      ],
      "execution_count": null,
      "outputs": []
    },
    {
      "cell_type": "markdown",
      "metadata": {
        "id": "2jqRKa4zKMge"
      },
      "source": [
        "**ATIVIDADE EAD**\n",
        "\n",
        "Finalizar a implementação do analisador sintático para TINY-C.\n",
        "\n"
      ]
    }
  ]
}