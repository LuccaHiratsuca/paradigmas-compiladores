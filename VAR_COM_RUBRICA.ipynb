{
  "nbformat": 4,
  "nbformat_minor": 0,
  "metadata": {
    "colab": {
      "provenance": [],
      "include_colab_link": true
    },
    "kernelspec": {
      "name": "python3",
      "display_name": "Python 3"
    },
    "widgets": {
      "application/vnd.jupyter.widget-state+json": {
        "d9fe6534b3dd410ba5a643a0096b93d6": {
          "model_module": "@jupyter-widgets/controls",
          "model_name": "HBoxModel",
          "model_module_version": "1.5.0",
          "state": {
            "_dom_classes": [],
            "_model_module": "@jupyter-widgets/controls",
            "_model_module_version": "1.5.0",
            "_model_name": "HBoxModel",
            "_view_count": null,
            "_view_module": "@jupyter-widgets/controls",
            "_view_module_version": "1.5.0",
            "_view_name": "HBoxView",
            "box_style": "",
            "children": [
              "IPY_MODEL_098207f2807a4c9e8aa833220e2a2e21",
              "IPY_MODEL_2d34a2f8270f481fa71a60be5f161e48"
            ],
            "layout": "IPY_MODEL_caee8523e55f48f88c235c79e1e6f4c4"
          }
        },
        "098207f2807a4c9e8aa833220e2a2e21": {
          "model_module": "@jupyter-widgets/controls",
          "model_name": "DatePickerModel",
          "model_module_version": "1.5.0",
          "state": {
            "_dom_classes": [],
            "_model_module": "@jupyter-widgets/controls",
            "_model_module_version": "1.5.0",
            "_model_name": "DatePickerModel",
            "_view_count": null,
            "_view_module": "@jupyter-widgets/controls",
            "_view_module_version": "1.5.0",
            "_view_name": "DatePickerView",
            "description": "Data apresentação",
            "description_tooltip": null,
            "disabled": false,
            "layout": "IPY_MODEL_f9438e17b750476a8dd4033998e066ea",
            "style": "IPY_MODEL_0a1efadc49db43edb94e367563cc0d30",
            "value": {
              "year": 2023,
              "month": 5,
              "date": 18
            }
          }
        },
        "2d34a2f8270f481fa71a60be5f161e48": {
          "model_module": "@jupyter-widgets/controls",
          "model_name": "DatePickerModel",
          "model_module_version": "1.5.0",
          "state": {
            "_dom_classes": [],
            "_model_module": "@jupyter-widgets/controls",
            "_model_module_version": "1.5.0",
            "_model_name": "DatePickerModel",
            "_view_count": null,
            "_view_module": "@jupyter-widgets/controls",
            "_view_module_version": "1.5.0",
            "_view_name": "DatePickerView",
            "description": "Data Avaliação",
            "description_tooltip": null,
            "disabled": false,
            "layout": "IPY_MODEL_06bba62a8d83467a93b40180f59eb842",
            "style": "IPY_MODEL_e9ad5f9e85024361bd69aec16586c71d",
            "value": {
              "year": 2023,
              "month": 5,
              "date": 23
            }
          }
        },
        "caee8523e55f48f88c235c79e1e6f4c4": {
          "model_module": "@jupyter-widgets/base",
          "model_name": "LayoutModel",
          "model_module_version": "1.2.0",
          "state": {
            "_model_module": "@jupyter-widgets/base",
            "_model_module_version": "1.2.0",
            "_model_name": "LayoutModel",
            "_view_count": null,
            "_view_module": "@jupyter-widgets/base",
            "_view_module_version": "1.2.0",
            "_view_name": "LayoutView",
            "align_content": null,
            "align_items": null,
            "align_self": null,
            "border": null,
            "bottom": null,
            "display": null,
            "flex": null,
            "flex_flow": null,
            "grid_area": null,
            "grid_auto_columns": null,
            "grid_auto_flow": null,
            "grid_auto_rows": null,
            "grid_column": null,
            "grid_gap": null,
            "grid_row": null,
            "grid_template_areas": null,
            "grid_template_columns": null,
            "grid_template_rows": null,
            "height": null,
            "justify_content": null,
            "justify_items": null,
            "left": null,
            "margin": null,
            "max_height": null,
            "max_width": null,
            "min_height": null,
            "min_width": null,
            "object_fit": null,
            "object_position": null,
            "order": null,
            "overflow": null,
            "overflow_x": null,
            "overflow_y": null,
            "padding": null,
            "right": null,
            "top": null,
            "visibility": null,
            "width": null
          }
        },
        "f9438e17b750476a8dd4033998e066ea": {
          "model_module": "@jupyter-widgets/base",
          "model_name": "LayoutModel",
          "model_module_version": "1.2.0",
          "state": {
            "_model_module": "@jupyter-widgets/base",
            "_model_module_version": "1.2.0",
            "_model_name": "LayoutModel",
            "_view_count": null,
            "_view_module": "@jupyter-widgets/base",
            "_view_module_version": "1.2.0",
            "_view_name": "LayoutView",
            "align_content": null,
            "align_items": null,
            "align_self": null,
            "border": null,
            "bottom": null,
            "display": null,
            "flex": null,
            "flex_flow": null,
            "grid_area": null,
            "grid_auto_columns": null,
            "grid_auto_flow": null,
            "grid_auto_rows": null,
            "grid_column": null,
            "grid_gap": null,
            "grid_row": null,
            "grid_template_areas": null,
            "grid_template_columns": null,
            "grid_template_rows": null,
            "height": null,
            "justify_content": null,
            "justify_items": null,
            "left": null,
            "margin": null,
            "max_height": null,
            "max_width": null,
            "min_height": null,
            "min_width": null,
            "object_fit": null,
            "object_position": null,
            "order": null,
            "overflow": null,
            "overflow_x": null,
            "overflow_y": null,
            "padding": null,
            "right": null,
            "top": null,
            "visibility": null,
            "width": null
          }
        },
        "0a1efadc49db43edb94e367563cc0d30": {
          "model_module": "@jupyter-widgets/controls",
          "model_name": "DescriptionStyleModel",
          "model_module_version": "1.5.0",
          "state": {
            "_model_module": "@jupyter-widgets/controls",
            "_model_module_version": "1.5.0",
            "_model_name": "DescriptionStyleModel",
            "_view_count": null,
            "_view_module": "@jupyter-widgets/base",
            "_view_module_version": "1.2.0",
            "_view_name": "StyleView",
            "description_width": ""
          }
        },
        "06bba62a8d83467a93b40180f59eb842": {
          "model_module": "@jupyter-widgets/base",
          "model_name": "LayoutModel",
          "model_module_version": "1.2.0",
          "state": {
            "_model_module": "@jupyter-widgets/base",
            "_model_module_version": "1.2.0",
            "_model_name": "LayoutModel",
            "_view_count": null,
            "_view_module": "@jupyter-widgets/base",
            "_view_module_version": "1.2.0",
            "_view_name": "LayoutView",
            "align_content": null,
            "align_items": null,
            "align_self": null,
            "border": null,
            "bottom": null,
            "display": null,
            "flex": null,
            "flex_flow": null,
            "grid_area": null,
            "grid_auto_columns": null,
            "grid_auto_flow": null,
            "grid_auto_rows": null,
            "grid_column": null,
            "grid_gap": null,
            "grid_row": null,
            "grid_template_areas": null,
            "grid_template_columns": null,
            "grid_template_rows": null,
            "height": null,
            "justify_content": null,
            "justify_items": null,
            "left": null,
            "margin": null,
            "max_height": null,
            "max_width": null,
            "min_height": null,
            "min_width": null,
            "object_fit": null,
            "object_position": null,
            "order": null,
            "overflow": null,
            "overflow_x": null,
            "overflow_y": null,
            "padding": null,
            "right": null,
            "top": null,
            "visibility": null,
            "width": null
          }
        },
        "e9ad5f9e85024361bd69aec16586c71d": {
          "model_module": "@jupyter-widgets/controls",
          "model_name": "DescriptionStyleModel",
          "model_module_version": "1.5.0",
          "state": {
            "_model_module": "@jupyter-widgets/controls",
            "_model_module_version": "1.5.0",
            "_model_name": "DescriptionStyleModel",
            "_view_count": null,
            "_view_module": "@jupyter-widgets/base",
            "_view_module_version": "1.2.0",
            "_view_name": "StyleView",
            "description_width": ""
          }
        },
        "e654a38293924557aa3c44626fed8cf5": {
          "model_module": "@jupyter-widgets/controls",
          "model_name": "SelectMultipleModel",
          "model_module_version": "1.5.0",
          "state": {
            "_dom_classes": [],
            "_model_module": "@jupyter-widgets/controls",
            "_model_module_version": "1.5.0",
            "_model_name": "SelectMultipleModel",
            "_options_labels": [
              "INSUFICIENTE",
              "BÁSICO",
              "EM DESENVOLVIMENTO",
              "PROFICIENTE"
            ],
            "_view_count": null,
            "_view_module": "@jupyter-widgets/controls",
            "_view_module_version": "1.5.0",
            "_view_name": "SelectMultipleView",
            "description": "Conceito",
            "description_tooltip": null,
            "disabled": false,
            "index": [
              3
            ],
            "layout": "IPY_MODEL_00976f85c505490dadad7ddddcf7a038",
            "rows": 4,
            "style": "IPY_MODEL_6374404b448749f5a72ddef652279bcf"
          }
        },
        "00976f85c505490dadad7ddddcf7a038": {
          "model_module": "@jupyter-widgets/base",
          "model_name": "LayoutModel",
          "model_module_version": "1.2.0",
          "state": {
            "_model_module": "@jupyter-widgets/base",
            "_model_module_version": "1.2.0",
            "_model_name": "LayoutModel",
            "_view_count": null,
            "_view_module": "@jupyter-widgets/base",
            "_view_module_version": "1.2.0",
            "_view_name": "LayoutView",
            "align_content": null,
            "align_items": null,
            "align_self": null,
            "border": null,
            "bottom": null,
            "display": null,
            "flex": null,
            "flex_flow": null,
            "grid_area": null,
            "grid_auto_columns": null,
            "grid_auto_flow": null,
            "grid_auto_rows": null,
            "grid_column": null,
            "grid_gap": null,
            "grid_row": null,
            "grid_template_areas": null,
            "grid_template_columns": null,
            "grid_template_rows": null,
            "height": null,
            "justify_content": null,
            "justify_items": null,
            "left": null,
            "margin": null,
            "max_height": null,
            "max_width": null,
            "min_height": null,
            "min_width": null,
            "object_fit": null,
            "object_position": null,
            "order": null,
            "overflow": null,
            "overflow_x": null,
            "overflow_y": null,
            "padding": null,
            "right": null,
            "top": null,
            "visibility": null,
            "width": null
          }
        },
        "6374404b448749f5a72ddef652279bcf": {
          "model_module": "@jupyter-widgets/controls",
          "model_name": "DescriptionStyleModel",
          "model_module_version": "1.5.0",
          "state": {
            "_model_module": "@jupyter-widgets/controls",
            "_model_module_version": "1.5.0",
            "_model_name": "DescriptionStyleModel",
            "_view_count": null,
            "_view_module": "@jupyter-widgets/base",
            "_view_module_version": "1.2.0",
            "_view_name": "StyleView",
            "description_width": ""
          }
        }
      }
    }
  },
  "cells": [
    {
      "cell_type": "markdown",
      "metadata": {
        "id": "view-in-github",
        "colab_type": "text"
      },
      "source": [
        "<a href=\"https://colab.research.google.com/github/lucianosilva-github/compiladores/blob/main/VAR_COM_RUBRICA.ipynb\" target=\"_parent\"><img src=\"https://colab.research.google.com/assets/colab-badge.svg\" alt=\"Open In Colab\"/></a>"
      ]
    },
    {
      "cell_type": "markdown",
      "source": [
        "# **ANÁLISE DE VALOR EM RISCO(VaR) EM CARTEIRAS**"
      ],
      "metadata": {
        "id": "cm6wVckhkemo"
      }
    },
    {
      "cell_type": "markdown",
      "source": [
        "**GRUPO**\n",
        "\n",
        "*   Ana Carolina dos Santos\n",
        "*   Bernardo Alvarenga Silva\n",
        "\n"
      ],
      "metadata": {
        "id": "abeioaQPk8oD"
      }
    },
    {
      "cell_type": "markdown",
      "metadata": {
        "id": "Ukw5sfe0J7Pq"
      },
      "source": [
        "# **INTRODUÇÃO**\n",
        "<p>Estimar o risco de uma carteira é muito importante para o crescimento do capital a longo prazo. Existem muitas técnicas para ajudar a gerenciar riscos, mas aqui abordaremos o 'valor em risco' (VaR).</p>\n",
        "<p>Existem duas formas principais de calcular o VaR:</p>\n",
        "<ol>\n",
        "<li>Usando a simulação de Monte Carlo</li>\n",
        "<li>Usando o <a href=\"https://www.investopedia.com/ask/answers/041715/what-variancecovariance-matrix-or-parametric-method-value-risk-var.asp\" target=\"_blank \">método de variância-covariância</a></li>\n",
        "</ol>\n",
        "\n",
        "<p>O VaR fornece uma estimativa da perda máxima de uma determinada carteira durante um período de tempo. Você pode calcular o VaR em vários níveis de confiança.</p>\n",
        "<p>Por exemplo, dado um VaR de 250.000 com 95% de confiança, há 95% de chance de que seu portfólio não perca mais de 250.000 no dia seguinte.</p>\n",
        "<p>Observe que o cálculo padrão do VaR pressupõe o seguinte:</p>\n",
        "<ul>\n",
        "<li><b>Distribuição normal de retornos</b> - O VaR assume que os retornos da carteira são normalmente distribuídos. Obviamente, isso não é realista para a maioria dos ativos, mas nos permite desenvolver uma linha de base usando um cálculo muito mais simplista. </p>\n",
        "<li><b>Condições de mercado padrão</b> - Como muitos instrumentos financeiros, o VaR é melhor usado para considerar perdas em mercados padrão e não é adequado para eventos extremos/outlier.</li>\n",
        "</ul>\n",
        "</p>\n",
        "\n",
        "Este trabalho apresenta o uso do método da variância-covariância para estimação do Var de uma carteira.\n"
      ]
    },
    {
      "cell_type": "markdown",
      "source": [
        "*RESERVADO PARA COMENTÁRIOS DO AVALIADOR SOBRE A INTRODUÇÃO*"
      ],
      "metadata": {
        "id": "Syq3YkrInlzo"
      }
    },
    {
      "cell_type": "markdown",
      "source": [
        "# **METODOLOGIA**\n",
        "\n",
        "<p>Para calcular o VaR da carteira, serão seguidos os passos abaixo:</p>\n",
        "<ol>\n",
        "   <li>Calcule retornos periódicos das ações em seu portfólio</li>\n",
        "   <li>Crie uma matriz de covariância com base nos retornos</li>\n",
        "   <li>Calcule a média e o desvio padrão do portfólio\n",
        "   <br><i>(ponderado com base nos níveis de investimento de cada ação em carteira)</i></li>\n",
        "   <li>Calcule o inverso da distribuição cumulativa normal (PPF) com um intervalo de confiança especificado, desvio padrão e média</li>\n",
        "    <li>Estime o valor em risco (VaR) para o portfólio subtraindo o investimento inicial do cálculo na etapa 4</li>\n",
        "   </ol>"
      ],
      "metadata": {
        "id": "2JbUobO2l0yA"
      }
    },
    {
      "cell_type": "markdown",
      "metadata": {
        "id": "K0nLGucpW7kd"
      },
      "source": [
        "1) Calcule retornos periódicos das ações em sua carteira"
      ]
    },
    {
      "cell_type": "code",
      "source": [
        "!pip install yfinance"
      ],
      "metadata": {
        "id": "IOxzCkUdpSAe",
        "colab": {
          "base_uri": "https://localhost:8080/"
        },
        "outputId": "3d62b5f0-f7af-4aa8-fe5b-f9578d95fb09"
      },
      "execution_count": null,
      "outputs": [
        {
          "output_type": "stream",
          "name": "stdout",
          "text": [
            "Looking in indexes: https://pypi.org/simple, https://us-python.pkg.dev/colab-wheels/public/simple/\n",
            "Requirement already satisfied: yfinance in /usr/local/lib/python3.10/dist-packages (0.2.18)\n",
            "Requirement already satisfied: pandas>=1.3.0 in /usr/local/lib/python3.10/dist-packages (from yfinance) (1.5.3)\n",
            "Requirement already satisfied: numpy>=1.16.5 in /usr/local/lib/python3.10/dist-packages (from yfinance) (1.22.4)\n",
            "Requirement already satisfied: requests>=2.26 in /usr/local/lib/python3.10/dist-packages (from yfinance) (2.31.0)\n",
            "Requirement already satisfied: multitasking>=0.0.7 in /usr/local/lib/python3.10/dist-packages (from yfinance) (0.0.11)\n",
            "Requirement already satisfied: lxml>=4.9.1 in /usr/local/lib/python3.10/dist-packages (from yfinance) (4.9.2)\n",
            "Requirement already satisfied: appdirs>=1.4.4 in /usr/local/lib/python3.10/dist-packages (from yfinance) (1.4.4)\n",
            "Requirement already satisfied: pytz>=2022.5 in /usr/local/lib/python3.10/dist-packages (from yfinance) (2022.7.1)\n",
            "Requirement already satisfied: frozendict>=2.3.4 in /usr/local/lib/python3.10/dist-packages (from yfinance) (2.3.7)\n",
            "Requirement already satisfied: cryptography>=3.3.2 in /usr/local/lib/python3.10/dist-packages (from yfinance) (40.0.2)\n",
            "Requirement already satisfied: beautifulsoup4>=4.11.1 in /usr/local/lib/python3.10/dist-packages (from yfinance) (4.11.2)\n",
            "Requirement already satisfied: html5lib>=1.1 in /usr/local/lib/python3.10/dist-packages (from yfinance) (1.1)\n",
            "Requirement already satisfied: soupsieve>1.2 in /usr/local/lib/python3.10/dist-packages (from beautifulsoup4>=4.11.1->yfinance) (2.4.1)\n",
            "Requirement already satisfied: cffi>=1.12 in /usr/local/lib/python3.10/dist-packages (from cryptography>=3.3.2->yfinance) (1.15.1)\n",
            "Requirement already satisfied: six>=1.9 in /usr/local/lib/python3.10/dist-packages (from html5lib>=1.1->yfinance) (1.16.0)\n",
            "Requirement already satisfied: webencodings in /usr/local/lib/python3.10/dist-packages (from html5lib>=1.1->yfinance) (0.5.1)\n",
            "Requirement already satisfied: python-dateutil>=2.8.1 in /usr/local/lib/python3.10/dist-packages (from pandas>=1.3.0->yfinance) (2.8.2)\n",
            "Requirement already satisfied: charset-normalizer<4,>=2 in /usr/local/lib/python3.10/dist-packages (from requests>=2.26->yfinance) (2.0.12)\n",
            "Requirement already satisfied: idna<4,>=2.5 in /usr/local/lib/python3.10/dist-packages (from requests>=2.26->yfinance) (3.4)\n",
            "Requirement already satisfied: urllib3<3,>=1.21.1 in /usr/local/lib/python3.10/dist-packages (from requests>=2.26->yfinance) (1.26.15)\n",
            "Requirement already satisfied: certifi>=2017.4.17 in /usr/local/lib/python3.10/dist-packages (from requests>=2.26->yfinance) (2022.12.7)\n",
            "Requirement already satisfied: pycparser in /usr/local/lib/python3.10/dist-packages (from cffi>=1.12->cryptography>=3.3.2->yfinance) (2.21)\n"
          ]
        }
      ]
    },
    {
      "cell_type": "code",
      "source": [
        "import datetime as dt\n",
        "import yfinance as yf\n",
        "\n",
        "company = 'AAPL'\n",
        "\n",
        "# Define a start date and End Date\n",
        "start = dt.datetime(2020,1,1)\n",
        "end =  dt.datetime(2022,1,1)\n",
        "\n",
        "# Read Stock Price Data\n",
        "data = yf.download(company, start , end)\n",
        "\n",
        "data.tail(10)"
      ],
      "metadata": {
        "id": "zO2AEmzmtQc6",
        "colab": {
          "base_uri": "https://localhost:8080/",
          "height": 412
        },
        "outputId": "fbe06e7c-ede6-462d-9e97-9eb54f440c53"
      },
      "execution_count": null,
      "outputs": [
        {
          "output_type": "stream",
          "name": "stdout",
          "text": [
            "\r[*********************100%***********************]  1 of 1 completed\n"
          ]
        },
        {
          "output_type": "execute_result",
          "data": {
            "text/plain": [
              "                  Open        High         Low       Close   Adj Close  \\\n",
              "Date                                                                     \n",
              "2021-12-17  169.929993  173.470001  169.690002  171.139999  169.658417   \n",
              "2021-12-20  168.279999  170.580002  167.460007  169.750000  168.280441   \n",
              "2021-12-21  171.559998  173.199997  169.119995  172.990005  171.492386   \n",
              "2021-12-22  173.039993  175.860001  172.149994  175.639999  174.119431   \n",
              "2021-12-23  175.850006  176.850006  175.270004  176.279999  174.753906   \n",
              "2021-12-27  177.089996  180.419998  177.070007  180.330002  178.768860   \n",
              "2021-12-28  180.160004  181.330002  178.529999  179.289993  177.737839   \n",
              "2021-12-29  179.330002  180.630005  178.139999  179.380005  177.827072   \n",
              "2021-12-30  179.470001  180.570007  178.089996  178.199997  176.657272   \n",
              "2021-12-31  178.089996  179.229996  177.259995  177.570007  176.032730   \n",
              "\n",
              "               Volume  \n",
              "Date                   \n",
              "2021-12-17  195432700  \n",
              "2021-12-20  107499100  \n",
              "2021-12-21   91185900  \n",
              "2021-12-22   92135300  \n",
              "2021-12-23   68356600  \n",
              "2021-12-27   74919600  \n",
              "2021-12-28   79144300  \n",
              "2021-12-29   62348900  \n",
              "2021-12-30   59773000  \n",
              "2021-12-31   64062300  "
            ],
            "text/html": [
              "\n",
              "  <div id=\"df-92204f9f-541f-4029-9478-a7f7e354c7ba\">\n",
              "    <div class=\"colab-df-container\">\n",
              "      <div>\n",
              "<style scoped>\n",
              "    .dataframe tbody tr th:only-of-type {\n",
              "        vertical-align: middle;\n",
              "    }\n",
              "\n",
              "    .dataframe tbody tr th {\n",
              "        vertical-align: top;\n",
              "    }\n",
              "\n",
              "    .dataframe thead th {\n",
              "        text-align: right;\n",
              "    }\n",
              "</style>\n",
              "<table border=\"1\" class=\"dataframe\">\n",
              "  <thead>\n",
              "    <tr style=\"text-align: right;\">\n",
              "      <th></th>\n",
              "      <th>Open</th>\n",
              "      <th>High</th>\n",
              "      <th>Low</th>\n",
              "      <th>Close</th>\n",
              "      <th>Adj Close</th>\n",
              "      <th>Volume</th>\n",
              "    </tr>\n",
              "    <tr>\n",
              "      <th>Date</th>\n",
              "      <th></th>\n",
              "      <th></th>\n",
              "      <th></th>\n",
              "      <th></th>\n",
              "      <th></th>\n",
              "      <th></th>\n",
              "    </tr>\n",
              "  </thead>\n",
              "  <tbody>\n",
              "    <tr>\n",
              "      <th>2021-12-17</th>\n",
              "      <td>169.929993</td>\n",
              "      <td>173.470001</td>\n",
              "      <td>169.690002</td>\n",
              "      <td>171.139999</td>\n",
              "      <td>169.658417</td>\n",
              "      <td>195432700</td>\n",
              "    </tr>\n",
              "    <tr>\n",
              "      <th>2021-12-20</th>\n",
              "      <td>168.279999</td>\n",
              "      <td>170.580002</td>\n",
              "      <td>167.460007</td>\n",
              "      <td>169.750000</td>\n",
              "      <td>168.280441</td>\n",
              "      <td>107499100</td>\n",
              "    </tr>\n",
              "    <tr>\n",
              "      <th>2021-12-21</th>\n",
              "      <td>171.559998</td>\n",
              "      <td>173.199997</td>\n",
              "      <td>169.119995</td>\n",
              "      <td>172.990005</td>\n",
              "      <td>171.492386</td>\n",
              "      <td>91185900</td>\n",
              "    </tr>\n",
              "    <tr>\n",
              "      <th>2021-12-22</th>\n",
              "      <td>173.039993</td>\n",
              "      <td>175.860001</td>\n",
              "      <td>172.149994</td>\n",
              "      <td>175.639999</td>\n",
              "      <td>174.119431</td>\n",
              "      <td>92135300</td>\n",
              "    </tr>\n",
              "    <tr>\n",
              "      <th>2021-12-23</th>\n",
              "      <td>175.850006</td>\n",
              "      <td>176.850006</td>\n",
              "      <td>175.270004</td>\n",
              "      <td>176.279999</td>\n",
              "      <td>174.753906</td>\n",
              "      <td>68356600</td>\n",
              "    </tr>\n",
              "    <tr>\n",
              "      <th>2021-12-27</th>\n",
              "      <td>177.089996</td>\n",
              "      <td>180.419998</td>\n",
              "      <td>177.070007</td>\n",
              "      <td>180.330002</td>\n",
              "      <td>178.768860</td>\n",
              "      <td>74919600</td>\n",
              "    </tr>\n",
              "    <tr>\n",
              "      <th>2021-12-28</th>\n",
              "      <td>180.160004</td>\n",
              "      <td>181.330002</td>\n",
              "      <td>178.529999</td>\n",
              "      <td>179.289993</td>\n",
              "      <td>177.737839</td>\n",
              "      <td>79144300</td>\n",
              "    </tr>\n",
              "    <tr>\n",
              "      <th>2021-12-29</th>\n",
              "      <td>179.330002</td>\n",
              "      <td>180.630005</td>\n",
              "      <td>178.139999</td>\n",
              "      <td>179.380005</td>\n",
              "      <td>177.827072</td>\n",
              "      <td>62348900</td>\n",
              "    </tr>\n",
              "    <tr>\n",
              "      <th>2021-12-30</th>\n",
              "      <td>179.470001</td>\n",
              "      <td>180.570007</td>\n",
              "      <td>178.089996</td>\n",
              "      <td>178.199997</td>\n",
              "      <td>176.657272</td>\n",
              "      <td>59773000</td>\n",
              "    </tr>\n",
              "    <tr>\n",
              "      <th>2021-12-31</th>\n",
              "      <td>178.089996</td>\n",
              "      <td>179.229996</td>\n",
              "      <td>177.259995</td>\n",
              "      <td>177.570007</td>\n",
              "      <td>176.032730</td>\n",
              "      <td>64062300</td>\n",
              "    </tr>\n",
              "  </tbody>\n",
              "</table>\n",
              "</div>\n",
              "      <button class=\"colab-df-convert\" onclick=\"convertToInteractive('df-92204f9f-541f-4029-9478-a7f7e354c7ba')\"\n",
              "              title=\"Convert this dataframe to an interactive table.\"\n",
              "              style=\"display:none;\">\n",
              "        \n",
              "  <svg xmlns=\"http://www.w3.org/2000/svg\" height=\"24px\"viewBox=\"0 0 24 24\"\n",
              "       width=\"24px\">\n",
              "    <path d=\"M0 0h24v24H0V0z\" fill=\"none\"/>\n",
              "    <path d=\"M18.56 5.44l.94 2.06.94-2.06 2.06-.94-2.06-.94-.94-2.06-.94 2.06-2.06.94zm-11 1L8.5 8.5l.94-2.06 2.06-.94-2.06-.94L8.5 2.5l-.94 2.06-2.06.94zm10 10l.94 2.06.94-2.06 2.06-.94-2.06-.94-.94-2.06-.94 2.06-2.06.94z\"/><path d=\"M17.41 7.96l-1.37-1.37c-.4-.4-.92-.59-1.43-.59-.52 0-1.04.2-1.43.59L10.3 9.45l-7.72 7.72c-.78.78-.78 2.05 0 2.83L4 21.41c.39.39.9.59 1.41.59.51 0 1.02-.2 1.41-.59l7.78-7.78 2.81-2.81c.8-.78.8-2.07 0-2.86zM5.41 20L4 18.59l7.72-7.72 1.47 1.35L5.41 20z\"/>\n",
              "  </svg>\n",
              "      </button>\n",
              "      \n",
              "  <style>\n",
              "    .colab-df-container {\n",
              "      display:flex;\n",
              "      flex-wrap:wrap;\n",
              "      gap: 12px;\n",
              "    }\n",
              "\n",
              "    .colab-df-convert {\n",
              "      background-color: #E8F0FE;\n",
              "      border: none;\n",
              "      border-radius: 50%;\n",
              "      cursor: pointer;\n",
              "      display: none;\n",
              "      fill: #1967D2;\n",
              "      height: 32px;\n",
              "      padding: 0 0 0 0;\n",
              "      width: 32px;\n",
              "    }\n",
              "\n",
              "    .colab-df-convert:hover {\n",
              "      background-color: #E2EBFA;\n",
              "      box-shadow: 0px 1px 2px rgba(60, 64, 67, 0.3), 0px 1px 3px 1px rgba(60, 64, 67, 0.15);\n",
              "      fill: #174EA6;\n",
              "    }\n",
              "\n",
              "    [theme=dark] .colab-df-convert {\n",
              "      background-color: #3B4455;\n",
              "      fill: #D2E3FC;\n",
              "    }\n",
              "\n",
              "    [theme=dark] .colab-df-convert:hover {\n",
              "      background-color: #434B5C;\n",
              "      box-shadow: 0px 1px 3px 1px rgba(0, 0, 0, 0.15);\n",
              "      filter: drop-shadow(0px 1px 2px rgba(0, 0, 0, 0.3));\n",
              "      fill: #FFFFFF;\n",
              "    }\n",
              "  </style>\n",
              "\n",
              "      <script>\n",
              "        const buttonEl =\n",
              "          document.querySelector('#df-92204f9f-541f-4029-9478-a7f7e354c7ba button.colab-df-convert');\n",
              "        buttonEl.style.display =\n",
              "          google.colab.kernel.accessAllowed ? 'block' : 'none';\n",
              "\n",
              "        async function convertToInteractive(key) {\n",
              "          const element = document.querySelector('#df-92204f9f-541f-4029-9478-a7f7e354c7ba');\n",
              "          const dataTable =\n",
              "            await google.colab.kernel.invokeFunction('convertToInteractive',\n",
              "                                                     [key], {});\n",
              "          if (!dataTable) return;\n",
              "\n",
              "          const docLinkHtml = 'Like what you see? Visit the ' +\n",
              "            '<a target=\"_blank\" href=https://colab.research.google.com/notebooks/data_table.ipynb>data table notebook</a>'\n",
              "            + ' to learn more about interactive tables.';\n",
              "          element.innerHTML = '';\n",
              "          dataTable['output_type'] = 'display_data';\n",
              "          await google.colab.output.renderOutput(dataTable, element);\n",
              "          const docLink = document.createElement('div');\n",
              "          docLink.innerHTML = docLinkHtml;\n",
              "          element.appendChild(docLink);\n",
              "        }\n",
              "      </script>\n",
              "    </div>\n",
              "  </div>\n",
              "  "
            ]
          },
          "metadata": {},
          "execution_count": 7
        }
      ]
    },
    {
      "cell_type": "code",
      "metadata": {
        "id": "xVldGgGfwkBa",
        "colab": {
          "base_uri": "https://localhost:8080/"
        },
        "outputId": "3c23cdb1-fa73-40f7-aac8-903935412a7d"
      },
      "source": [
        "import pandas as pd\n",
        "from pandas_datareader import data as pdr\n",
        "import yfinance as yf\n",
        "import numpy as np\n",
        "import datetime as dt\n",
        "import matplotlib.pyplot as plt\n",
        "\n",
        "\n",
        "tickers = ['AAPL','C', 'DIS']\n",
        "weights = np.array([.25,.15, .3])\n",
        "initial_investment = 1000000\n",
        "start = dt.datetime(2023,1,1)\n",
        "end =  dt.datetime(2023,6,1)\n",
        "\n",
        "dataAAPL=yf.download('AAPL', start , end)['Close']\n",
        "dataC=yf.download('C', start , end)['Close']\n",
        "dataDIS=yf.download('DIS', start , end)['Close']\n",
        "data = pd.DataFrame({'AAPL': dataAAPL, 'C': dataC, 'DIS': dataDIS})\n",
        "print(data)\n",
        "returns = data.pct_change()"
      ],
      "execution_count": null,
      "outputs": [
        {
          "output_type": "stream",
          "name": "stdout",
          "text": [
            "[*********************100%***********************]  1 of 1 completed\n",
            "[*********************100%***********************]  1 of 1 completed\n",
            "[*********************100%***********************]  1 of 1 completed\n",
            "                  AAPL          C        DIS\n",
            "Date                                        \n",
            "2023-01-03  125.070000  45.779999  88.970001\n",
            "2023-01-04  126.360001  46.959999  91.980003\n",
            "2023-01-05  125.019997  46.750000  91.919998\n",
            "2023-01-06  129.619995  47.310001  93.919998\n",
            "2023-01-09  130.149994  47.540001  94.769997\n",
            "...                ...        ...        ...\n",
            "2023-05-24  171.839996  44.490002  89.070000\n",
            "2023-05-25  172.990005  44.230000  88.139999\n",
            "2023-05-26  175.429993  44.599998  88.290001\n",
            "2023-05-30  177.300003  44.700001  87.820000\n",
            "2023-05-31  177.250000  44.320000  87.959999\n",
            "\n",
            "[103 rows x 3 columns]\n"
          ]
        }
      ]
    },
    {
      "cell_type": "code",
      "metadata": {
        "id": "bJUVtuS-womS",
        "colab": {
          "base_uri": "https://localhost:8080/",
          "height": 210
        },
        "outputId": "3129710b-8ef1-4c6e-e26d-b2cbbd1f8df7"
      },
      "source": [
        "returns.tail()"
      ],
      "execution_count": null,
      "outputs": [
        {
          "output_type": "execute_result",
          "data": {
            "text/plain": [
              "                AAPL         C       DIS\n",
              "Date                                    \n",
              "2023-05-24  0.001632 -0.030930 -0.008350\n",
              "2023-05-25  0.006692 -0.005844 -0.010441\n",
              "2023-05-26  0.014105  0.008365  0.001702\n",
              "2023-05-30  0.010660  0.002242 -0.005323\n",
              "2023-05-31 -0.000282 -0.008501  0.001594"
            ],
            "text/html": [
              "\n",
              "  <div id=\"df-451ec4b8-dcba-4385-911c-f180ff8f49bf\">\n",
              "    <div class=\"colab-df-container\">\n",
              "      <div>\n",
              "<style scoped>\n",
              "    .dataframe tbody tr th:only-of-type {\n",
              "        vertical-align: middle;\n",
              "    }\n",
              "\n",
              "    .dataframe tbody tr th {\n",
              "        vertical-align: top;\n",
              "    }\n",
              "\n",
              "    .dataframe thead th {\n",
              "        text-align: right;\n",
              "    }\n",
              "</style>\n",
              "<table border=\"1\" class=\"dataframe\">\n",
              "  <thead>\n",
              "    <tr style=\"text-align: right;\">\n",
              "      <th></th>\n",
              "      <th>AAPL</th>\n",
              "      <th>C</th>\n",
              "      <th>DIS</th>\n",
              "    </tr>\n",
              "    <tr>\n",
              "      <th>Date</th>\n",
              "      <th></th>\n",
              "      <th></th>\n",
              "      <th></th>\n",
              "    </tr>\n",
              "  </thead>\n",
              "  <tbody>\n",
              "    <tr>\n",
              "      <th>2023-05-24</th>\n",
              "      <td>0.001632</td>\n",
              "      <td>-0.030930</td>\n",
              "      <td>-0.008350</td>\n",
              "    </tr>\n",
              "    <tr>\n",
              "      <th>2023-05-25</th>\n",
              "      <td>0.006692</td>\n",
              "      <td>-0.005844</td>\n",
              "      <td>-0.010441</td>\n",
              "    </tr>\n",
              "    <tr>\n",
              "      <th>2023-05-26</th>\n",
              "      <td>0.014105</td>\n",
              "      <td>0.008365</td>\n",
              "      <td>0.001702</td>\n",
              "    </tr>\n",
              "    <tr>\n",
              "      <th>2023-05-30</th>\n",
              "      <td>0.010660</td>\n",
              "      <td>0.002242</td>\n",
              "      <td>-0.005323</td>\n",
              "    </tr>\n",
              "    <tr>\n",
              "      <th>2023-05-31</th>\n",
              "      <td>-0.000282</td>\n",
              "      <td>-0.008501</td>\n",
              "      <td>0.001594</td>\n",
              "    </tr>\n",
              "  </tbody>\n",
              "</table>\n",
              "</div>\n",
              "      <button class=\"colab-df-convert\" onclick=\"convertToInteractive('df-451ec4b8-dcba-4385-911c-f180ff8f49bf')\"\n",
              "              title=\"Convert this dataframe to an interactive table.\"\n",
              "              style=\"display:none;\">\n",
              "        \n",
              "  <svg xmlns=\"http://www.w3.org/2000/svg\" height=\"24px\"viewBox=\"0 0 24 24\"\n",
              "       width=\"24px\">\n",
              "    <path d=\"M0 0h24v24H0V0z\" fill=\"none\"/>\n",
              "    <path d=\"M18.56 5.44l.94 2.06.94-2.06 2.06-.94-2.06-.94-.94-2.06-.94 2.06-2.06.94zm-11 1L8.5 8.5l.94-2.06 2.06-.94-2.06-.94L8.5 2.5l-.94 2.06-2.06.94zm10 10l.94 2.06.94-2.06 2.06-.94-2.06-.94-.94-2.06-.94 2.06-2.06.94z\"/><path d=\"M17.41 7.96l-1.37-1.37c-.4-.4-.92-.59-1.43-.59-.52 0-1.04.2-1.43.59L10.3 9.45l-7.72 7.72c-.78.78-.78 2.05 0 2.83L4 21.41c.39.39.9.59 1.41.59.51 0 1.02-.2 1.41-.59l7.78-7.78 2.81-2.81c.8-.78.8-2.07 0-2.86zM5.41 20L4 18.59l7.72-7.72 1.47 1.35L5.41 20z\"/>\n",
              "  </svg>\n",
              "      </button>\n",
              "      \n",
              "  <style>\n",
              "    .colab-df-container {\n",
              "      display:flex;\n",
              "      flex-wrap:wrap;\n",
              "      gap: 12px;\n",
              "    }\n",
              "\n",
              "    .colab-df-convert {\n",
              "      background-color: #E8F0FE;\n",
              "      border: none;\n",
              "      border-radius: 50%;\n",
              "      cursor: pointer;\n",
              "      display: none;\n",
              "      fill: #1967D2;\n",
              "      height: 32px;\n",
              "      padding: 0 0 0 0;\n",
              "      width: 32px;\n",
              "    }\n",
              "\n",
              "    .colab-df-convert:hover {\n",
              "      background-color: #E2EBFA;\n",
              "      box-shadow: 0px 1px 2px rgba(60, 64, 67, 0.3), 0px 1px 3px 1px rgba(60, 64, 67, 0.15);\n",
              "      fill: #174EA6;\n",
              "    }\n",
              "\n",
              "    [theme=dark] .colab-df-convert {\n",
              "      background-color: #3B4455;\n",
              "      fill: #D2E3FC;\n",
              "    }\n",
              "\n",
              "    [theme=dark] .colab-df-convert:hover {\n",
              "      background-color: #434B5C;\n",
              "      box-shadow: 0px 1px 3px 1px rgba(0, 0, 0, 0.15);\n",
              "      filter: drop-shadow(0px 1px 2px rgba(0, 0, 0, 0.3));\n",
              "      fill: #FFFFFF;\n",
              "    }\n",
              "  </style>\n",
              "\n",
              "      <script>\n",
              "        const buttonEl =\n",
              "          document.querySelector('#df-451ec4b8-dcba-4385-911c-f180ff8f49bf button.colab-df-convert');\n",
              "        buttonEl.style.display =\n",
              "          google.colab.kernel.accessAllowed ? 'block' : 'none';\n",
              "\n",
              "        async function convertToInteractive(key) {\n",
              "          const element = document.querySelector('#df-451ec4b8-dcba-4385-911c-f180ff8f49bf');\n",
              "          const dataTable =\n",
              "            await google.colab.kernel.invokeFunction('convertToInteractive',\n",
              "                                                     [key], {});\n",
              "          if (!dataTable) return;\n",
              "\n",
              "          const docLinkHtml = 'Like what you see? Visit the ' +\n",
              "            '<a target=\"_blank\" href=https://colab.research.google.com/notebooks/data_table.ipynb>data table notebook</a>'\n",
              "            + ' to learn more about interactive tables.';\n",
              "          element.innerHTML = '';\n",
              "          dataTable['output_type'] = 'display_data';\n",
              "          await google.colab.output.renderOutput(dataTable, element);\n",
              "          const docLink = document.createElement('div');\n",
              "          docLink.innerHTML = docLinkHtml;\n",
              "          element.appendChild(docLink);\n",
              "        }\n",
              "      </script>\n",
              "    </div>\n",
              "  </div>\n",
              "  "
            ]
          },
          "metadata": {},
          "execution_count": 9
        }
      ]
    },
    {
      "cell_type": "markdown",
      "metadata": {
        "id": "9_yzgZi9x4ay"
      },
      "source": [
        "2) Crie uma matriz de covariância com base nos retornos\n"
      ]
    },
    {
      "cell_type": "code",
      "metadata": {
        "id": "m24rO-hZya0q",
        "colab": {
          "base_uri": "https://localhost:8080/",
          "height": 143
        },
        "outputId": "8a5f784c-5b2a-4c7a-98f0-f6ca260ca2f2"
      },
      "source": [
        "cov_matrix = returns.cov()\n",
        "cov_matrix\n"
      ],
      "execution_count": null,
      "outputs": [
        {
          "output_type": "execute_result",
          "data": {
            "text/plain": [
              "          AAPL         C       DIS\n",
              "AAPL  0.000188  0.000078  0.000138\n",
              "C     0.000078  0.000364  0.000176\n",
              "DIS   0.000138  0.000176  0.000354"
            ],
            "text/html": [
              "\n",
              "  <div id=\"df-242e7c76-3b27-4f74-b2ec-bdd8d9340c79\">\n",
              "    <div class=\"colab-df-container\">\n",
              "      <div>\n",
              "<style scoped>\n",
              "    .dataframe tbody tr th:only-of-type {\n",
              "        vertical-align: middle;\n",
              "    }\n",
              "\n",
              "    .dataframe tbody tr th {\n",
              "        vertical-align: top;\n",
              "    }\n",
              "\n",
              "    .dataframe thead th {\n",
              "        text-align: right;\n",
              "    }\n",
              "</style>\n",
              "<table border=\"1\" class=\"dataframe\">\n",
              "  <thead>\n",
              "    <tr style=\"text-align: right;\">\n",
              "      <th></th>\n",
              "      <th>AAPL</th>\n",
              "      <th>C</th>\n",
              "      <th>DIS</th>\n",
              "    </tr>\n",
              "  </thead>\n",
              "  <tbody>\n",
              "    <tr>\n",
              "      <th>AAPL</th>\n",
              "      <td>0.000188</td>\n",
              "      <td>0.000078</td>\n",
              "      <td>0.000138</td>\n",
              "    </tr>\n",
              "    <tr>\n",
              "      <th>C</th>\n",
              "      <td>0.000078</td>\n",
              "      <td>0.000364</td>\n",
              "      <td>0.000176</td>\n",
              "    </tr>\n",
              "    <tr>\n",
              "      <th>DIS</th>\n",
              "      <td>0.000138</td>\n",
              "      <td>0.000176</td>\n",
              "      <td>0.000354</td>\n",
              "    </tr>\n",
              "  </tbody>\n",
              "</table>\n",
              "</div>\n",
              "      <button class=\"colab-df-convert\" onclick=\"convertToInteractive('df-242e7c76-3b27-4f74-b2ec-bdd8d9340c79')\"\n",
              "              title=\"Convert this dataframe to an interactive table.\"\n",
              "              style=\"display:none;\">\n",
              "        \n",
              "  <svg xmlns=\"http://www.w3.org/2000/svg\" height=\"24px\"viewBox=\"0 0 24 24\"\n",
              "       width=\"24px\">\n",
              "    <path d=\"M0 0h24v24H0V0z\" fill=\"none\"/>\n",
              "    <path d=\"M18.56 5.44l.94 2.06.94-2.06 2.06-.94-2.06-.94-.94-2.06-.94 2.06-2.06.94zm-11 1L8.5 8.5l.94-2.06 2.06-.94-2.06-.94L8.5 2.5l-.94 2.06-2.06.94zm10 10l.94 2.06.94-2.06 2.06-.94-2.06-.94-.94-2.06-.94 2.06-2.06.94z\"/><path d=\"M17.41 7.96l-1.37-1.37c-.4-.4-.92-.59-1.43-.59-.52 0-1.04.2-1.43.59L10.3 9.45l-7.72 7.72c-.78.78-.78 2.05 0 2.83L4 21.41c.39.39.9.59 1.41.59.51 0 1.02-.2 1.41-.59l7.78-7.78 2.81-2.81c.8-.78.8-2.07 0-2.86zM5.41 20L4 18.59l7.72-7.72 1.47 1.35L5.41 20z\"/>\n",
              "  </svg>\n",
              "      </button>\n",
              "      \n",
              "  <style>\n",
              "    .colab-df-container {\n",
              "      display:flex;\n",
              "      flex-wrap:wrap;\n",
              "      gap: 12px;\n",
              "    }\n",
              "\n",
              "    .colab-df-convert {\n",
              "      background-color: #E8F0FE;\n",
              "      border: none;\n",
              "      border-radius: 50%;\n",
              "      cursor: pointer;\n",
              "      display: none;\n",
              "      fill: #1967D2;\n",
              "      height: 32px;\n",
              "      padding: 0 0 0 0;\n",
              "      width: 32px;\n",
              "    }\n",
              "\n",
              "    .colab-df-convert:hover {\n",
              "      background-color: #E2EBFA;\n",
              "      box-shadow: 0px 1px 2px rgba(60, 64, 67, 0.3), 0px 1px 3px 1px rgba(60, 64, 67, 0.15);\n",
              "      fill: #174EA6;\n",
              "    }\n",
              "\n",
              "    [theme=dark] .colab-df-convert {\n",
              "      background-color: #3B4455;\n",
              "      fill: #D2E3FC;\n",
              "    }\n",
              "\n",
              "    [theme=dark] .colab-df-convert:hover {\n",
              "      background-color: #434B5C;\n",
              "      box-shadow: 0px 1px 3px 1px rgba(0, 0, 0, 0.15);\n",
              "      filter: drop-shadow(0px 1px 2px rgba(0, 0, 0, 0.3));\n",
              "      fill: #FFFFFF;\n",
              "    }\n",
              "  </style>\n",
              "\n",
              "      <script>\n",
              "        const buttonEl =\n",
              "          document.querySelector('#df-242e7c76-3b27-4f74-b2ec-bdd8d9340c79 button.colab-df-convert');\n",
              "        buttonEl.style.display =\n",
              "          google.colab.kernel.accessAllowed ? 'block' : 'none';\n",
              "\n",
              "        async function convertToInteractive(key) {\n",
              "          const element = document.querySelector('#df-242e7c76-3b27-4f74-b2ec-bdd8d9340c79');\n",
              "          const dataTable =\n",
              "            await google.colab.kernel.invokeFunction('convertToInteractive',\n",
              "                                                     [key], {});\n",
              "          if (!dataTable) return;\n",
              "\n",
              "          const docLinkHtml = 'Like what you see? Visit the ' +\n",
              "            '<a target=\"_blank\" href=https://colab.research.google.com/notebooks/data_table.ipynb>data table notebook</a>'\n",
              "            + ' to learn more about interactive tables.';\n",
              "          element.innerHTML = '';\n",
              "          dataTable['output_type'] = 'display_data';\n",
              "          await google.colab.output.renderOutput(dataTable, element);\n",
              "          const docLink = document.createElement('div');\n",
              "          docLink.innerHTML = docLinkHtml;\n",
              "          element.appendChild(docLink);\n",
              "        }\n",
              "      </script>\n",
              "    </div>\n",
              "  </div>\n",
              "  "
            ]
          },
          "metadata": {},
          "execution_count": 10
        }
      ]
    },
    {
      "cell_type": "markdown",
      "metadata": {
        "id": "T1IKHGdHXQKh"
      },
      "source": [
        "3) Calcule a média e o desvio padrão da carteira"
      ]
    },
    {
      "cell_type": "code",
      "metadata": {
        "id": "IiVEp991XQa7"
      },
      "source": [
        "avg_rets = returns.mean()\n",
        "port_mean = avg_rets.dot(weights)\n",
        "port_stdev = np.sqrt(weights.T.dot(cov_matrix).dot(weights))\n",
        "mean_investment = (1+port_mean) * initial_investment\n",
        "stdev_investment = initial_investment * port_stdev"
      ],
      "execution_count": null,
      "outputs": []
    },
    {
      "cell_type": "markdown",
      "metadata": {
        "id": "ny_Ca76SXWbc"
      },
      "source": [
        "4) Calcule o inverso da distribuição cumulativa normal (PPF) com um intervalo de confiança especificado, desvio padrão e média"
      ]
    },
    {
      "cell_type": "code",
      "metadata": {
        "id": "4amwp-AkXXhZ"
      },
      "source": [
        "conf_level1 = 0.05\n",
        "from scipy.stats import norm\n",
        "cutoff1 = norm.ppf(conf_level1, mean_investment, stdev_investment)\n"
      ],
      "execution_count": null,
      "outputs": []
    },
    {
      "cell_type": "markdown",
      "metadata": {
        "id": "OUR2EOHkXimv"
      },
      "source": [
        "5) Estime o valor em risco (VaR) para o portfólio subtraindo o investimento inicial do cálculo na etapa 4"
      ]
    },
    {
      "cell_type": "code",
      "metadata": {
        "id": "8u-AK6SsXlkv",
        "colab": {
          "base_uri": "https://localhost:8080/"
        },
        "outputId": "63ad3395-66bb-44d5-ef71-46c4073f317d"
      },
      "source": [
        "var_1d1 = initial_investment - cutoff1\n",
        "var_1d1"
      ],
      "execution_count": null,
      "outputs": [
        {
          "output_type": "execute_result",
          "data": {
            "text/plain": [
              "15084.465823756298"
            ]
          },
          "metadata": {},
          "execution_count": 13
        }
      ]
    },
    {
      "cell_type": "markdown",
      "source": [
        "*RESERVADO PARA COMENTÁRIOS DO AVALIADOR SOBRE A METODOLOGIA*"
      ],
      "metadata": {
        "id": "Vi23z7-Rnwh_"
      }
    },
    {
      "cell_type": "markdown",
      "source": [
        "# **ANÁLISE DOS RESULTADOS**"
      ],
      "metadata": {
        "id": "HVPRGn8DjNJh"
      }
    },
    {
      "cell_type": "markdown",
      "metadata": {
        "id": "8DPxckqx1JPS"
      },
      "source": [
        "Os resultados anteriores evidenciam que, com 95% de confiança, a perda de nosso portfólio não excederá ~ $ 15,08 mil em um período de um dia. E se quiséssemos calcular isso em uma janela de tempo maior? Abaixo, podemos fazer isso facilmente, apenas pegando nosso VaR de 1 dia e multiplicando-o pela raiz quadrada do período de tempo."
      ]
    },
    {
      "cell_type": "code",
      "metadata": {
        "id": "YD94kFq2yrqs",
        "colab": {
          "base_uri": "https://localhost:8080/",
          "height": 1000
        },
        "outputId": "603dd971-86a9-4fe8-c746-b0c596ff357f"
      },
      "source": [
        "var_array = []\n",
        "num_days = int(360)\n",
        "for x in range(1, num_days+1):\n",
        "    var_array.append(np.round(var_1d1 * np.sqrt(x),2))\n",
        "    print(str(x) + \" day VaR @ 95% confidence: \" + str(np.round(var_1d1 * np.sqrt(x),2)))\n",
        "plt.xlabel(\"Day #\")\n",
        "plt.ylabel(\"Max portfolio loss (USD)\")\n",
        "plt.title(\"Max portfolio loss (VaR) over 15-day period\")\n",
        "plt.plot(var_array, \"r\")\n"
      ],
      "execution_count": null,
      "outputs": [
        {
          "output_type": "stream",
          "name": "stdout",
          "text": [
            "1 day VaR @ 95% confidence: 15084.47\n",
            "2 day VaR @ 95% confidence: 21332.66\n",
            "3 day VaR @ 95% confidence: 26127.06\n",
            "4 day VaR @ 95% confidence: 30168.93\n",
            "5 day VaR @ 95% confidence: 33729.89\n",
            "6 day VaR @ 95% confidence: 36949.24\n",
            "7 day VaR @ 95% confidence: 39909.75\n",
            "8 day VaR @ 95% confidence: 42665.31\n",
            "9 day VaR @ 95% confidence: 45253.4\n",
            "10 day VaR @ 95% confidence: 47701.27\n",
            "11 day VaR @ 95% confidence: 50029.51\n",
            "12 day VaR @ 95% confidence: 52254.12\n",
            "13 day VaR @ 95% confidence: 54387.81\n",
            "14 day VaR @ 95% confidence: 56440.9\n",
            "15 day VaR @ 95% confidence: 58421.88\n",
            "16 day VaR @ 95% confidence: 60337.86\n",
            "17 day VaR @ 95% confidence: 62194.85\n",
            "18 day VaR @ 95% confidence: 63997.97\n",
            "19 day VaR @ 95% confidence: 65751.66\n",
            "20 day VaR @ 95% confidence: 67459.78\n",
            "21 day VaR @ 95% confidence: 69125.71\n",
            "22 day VaR @ 95% confidence: 70752.42\n",
            "23 day VaR @ 95% confidence: 72342.56\n",
            "24 day VaR @ 95% confidence: 73898.49\n",
            "25 day VaR @ 95% confidence: 75422.33\n",
            "26 day VaR @ 95% confidence: 76915.99\n",
            "27 day VaR @ 95% confidence: 78381.18\n",
            "28 day VaR @ 95% confidence: 79819.49\n",
            "29 day VaR @ 95% confidence: 81232.33\n",
            "30 day VaR @ 95% confidence: 82621.02\n",
            "31 day VaR @ 95% confidence: 83986.75\n",
            "32 day VaR @ 95% confidence: 85330.62\n",
            "33 day VaR @ 95% confidence: 86653.66\n",
            "34 day VaR @ 95% confidence: 87956.79\n",
            "35 day VaR @ 95% confidence: 89240.9\n",
            "36 day VaR @ 95% confidence: 90506.79\n",
            "37 day VaR @ 95% confidence: 91755.22\n",
            "38 day VaR @ 95% confidence: 92986.89\n",
            "39 day VaR @ 95% confidence: 94202.46\n",
            "40 day VaR @ 95% confidence: 95402.54\n",
            "41 day VaR @ 95% confidence: 96587.71\n",
            "42 day VaR @ 95% confidence: 97758.51\n",
            "43 day VaR @ 95% confidence: 98915.46\n",
            "44 day VaR @ 95% confidence: 100059.03\n",
            "45 day VaR @ 95% confidence: 101189.67\n",
            "46 day VaR @ 95% confidence: 102307.82\n",
            "47 day VaR @ 95% confidence: 103413.89\n",
            "48 day VaR @ 95% confidence: 104508.24\n",
            "49 day VaR @ 95% confidence: 105591.26\n",
            "50 day VaR @ 95% confidence: 106663.28\n",
            "51 day VaR @ 95% confidence: 107724.63\n",
            "52 day VaR @ 95% confidence: 108775.63\n",
            "53 day VaR @ 95% confidence: 109816.57\n",
            "54 day VaR @ 95% confidence: 110847.73\n",
            "55 day VaR @ 95% confidence: 111869.39\n",
            "56 day VaR @ 95% confidence: 112881.81\n",
            "57 day VaR @ 95% confidence: 113885.22\n",
            "58 day VaR @ 95% confidence: 114879.87\n",
            "59 day VaR @ 95% confidence: 115865.98\n",
            "60 day VaR @ 95% confidence: 116843.77\n",
            "61 day VaR @ 95% confidence: 117813.44\n",
            "62 day VaR @ 95% confidence: 118775.2\n",
            "63 day VaR @ 95% confidence: 119729.24\n",
            "64 day VaR @ 95% confidence: 120675.73\n",
            "65 day VaR @ 95% confidence: 121614.85\n",
            "66 day VaR @ 95% confidence: 122546.78\n",
            "67 day VaR @ 95% confidence: 123471.67\n",
            "68 day VaR @ 95% confidence: 124389.69\n",
            "69 day VaR @ 95% confidence: 125300.98\n",
            "70 day VaR @ 95% confidence: 126205.7\n",
            "71 day VaR @ 95% confidence: 127103.97\n",
            "72 day VaR @ 95% confidence: 127995.94\n",
            "73 day VaR @ 95% confidence: 128881.73\n",
            "74 day VaR @ 95% confidence: 129761.48\n",
            "75 day VaR @ 95% confidence: 130635.31\n",
            "76 day VaR @ 95% confidence: 131503.32\n",
            "77 day VaR @ 95% confidence: 132365.65\n",
            "78 day VaR @ 95% confidence: 133222.39\n",
            "79 day VaR @ 95% confidence: 134073.66\n",
            "80 day VaR @ 95% confidence: 134919.56\n",
            "81 day VaR @ 95% confidence: 135760.19\n",
            "82 day VaR @ 95% confidence: 136595.65\n",
            "83 day VaR @ 95% confidence: 137426.02\n",
            "84 day VaR @ 95% confidence: 138251.41\n",
            "85 day VaR @ 95% confidence: 139071.9\n",
            "86 day VaR @ 95% confidence: 139887.58\n",
            "87 day VaR @ 95% confidence: 140698.53\n",
            "88 day VaR @ 95% confidence: 141504.83\n",
            "89 day VaR @ 95% confidence: 142306.57\n",
            "90 day VaR @ 95% confidence: 143103.81\n",
            "91 day VaR @ 95% confidence: 143896.63\n",
            "92 day VaR @ 95% confidence: 144685.11\n",
            "93 day VaR @ 95% confidence: 145469.32\n",
            "94 day VaR @ 95% confidence: 146249.32\n",
            "95 day VaR @ 95% confidence: 147025.19\n",
            "96 day VaR @ 95% confidence: 147796.98\n",
            "97 day VaR @ 95% confidence: 148564.76\n",
            "98 day VaR @ 95% confidence: 149328.59\n",
            "99 day VaR @ 95% confidence: 150088.54\n",
            "100 day VaR @ 95% confidence: 150844.66\n",
            "101 day VaR @ 95% confidence: 151597.01\n",
            "102 day VaR @ 95% confidence: 152345.64\n",
            "103 day VaR @ 95% confidence: 153090.61\n",
            "104 day VaR @ 95% confidence: 153831.97\n",
            "105 day VaR @ 95% confidence: 154569.78\n",
            "106 day VaR @ 95% confidence: 155304.08\n",
            "107 day VaR @ 95% confidence: 156034.93\n",
            "108 day VaR @ 95% confidence: 156762.37\n",
            "109 day VaR @ 95% confidence: 157486.45\n",
            "110 day VaR @ 95% confidence: 158207.21\n",
            "111 day VaR @ 95% confidence: 158924.71\n",
            "112 day VaR @ 95% confidence: 159638.98\n",
            "113 day VaR @ 95% confidence: 160350.07\n",
            "114 day VaR @ 95% confidence: 161058.02\n",
            "115 day VaR @ 95% confidence: 161762.87\n",
            "116 day VaR @ 95% confidence: 162464.67\n",
            "117 day VaR @ 95% confidence: 163163.44\n",
            "118 day VaR @ 95% confidence: 163859.24\n",
            "119 day VaR @ 95% confidence: 164552.1\n",
            "120 day VaR @ 95% confidence: 165242.04\n",
            "121 day VaR @ 95% confidence: 165929.12\n",
            "122 day VaR @ 95% confidence: 166613.37\n",
            "123 day VaR @ 95% confidence: 167294.82\n",
            "124 day VaR @ 95% confidence: 167973.5\n",
            "125 day VaR @ 95% confidence: 168649.45\n",
            "126 day VaR @ 95% confidence: 169322.71\n",
            "127 day VaR @ 95% confidence: 169993.3\n",
            "128 day VaR @ 95% confidence: 170661.25\n",
            "129 day VaR @ 95% confidence: 171326.6\n",
            "130 day VaR @ 95% confidence: 171989.37\n",
            "131 day VaR @ 95% confidence: 172649.6\n",
            "132 day VaR @ 95% confidence: 173307.32\n",
            "133 day VaR @ 95% confidence: 173962.55\n",
            "134 day VaR @ 95% confidence: 174615.32\n",
            "135 day VaR @ 95% confidence: 175265.65\n",
            "136 day VaR @ 95% confidence: 175913.59\n",
            "137 day VaR @ 95% confidence: 176559.15\n",
            "138 day VaR @ 95% confidence: 177202.35\n",
            "139 day VaR @ 95% confidence: 177843.23\n",
            "140 day VaR @ 95% confidence: 178481.81\n",
            "141 day VaR @ 95% confidence: 179118.11\n",
            "142 day VaR @ 95% confidence: 179752.16\n",
            "143 day VaR @ 95% confidence: 180383.98\n",
            "144 day VaR @ 95% confidence: 181013.59\n",
            "145 day VaR @ 95% confidence: 181641.02\n",
            "146 day VaR @ 95% confidence: 182266.29\n",
            "147 day VaR @ 95% confidence: 182889.43\n",
            "148 day VaR @ 95% confidence: 183510.45\n",
            "149 day VaR @ 95% confidence: 184129.37\n",
            "150 day VaR @ 95% confidence: 184746.22\n",
            "151 day VaR @ 95% confidence: 185361.02\n",
            "152 day VaR @ 95% confidence: 185973.78\n",
            "153 day VaR @ 95% confidence: 186584.54\n",
            "154 day VaR @ 95% confidence: 187193.3\n",
            "155 day VaR @ 95% confidence: 187800.08\n",
            "156 day VaR @ 95% confidence: 188404.92\n",
            "157 day VaR @ 95% confidence: 189007.82\n",
            "158 day VaR @ 95% confidence: 189608.8\n",
            "159 day VaR @ 95% confidence: 190207.88\n",
            "160 day VaR @ 95% confidence: 190805.08\n",
            "161 day VaR @ 95% confidence: 191400.41\n",
            "162 day VaR @ 95% confidence: 191993.91\n",
            "163 day VaR @ 95% confidence: 192585.57\n",
            "164 day VaR @ 95% confidence: 193175.42\n",
            "165 day VaR @ 95% confidence: 193763.47\n",
            "166 day VaR @ 95% confidence: 194349.75\n",
            "167 day VaR @ 95% confidence: 194934.26\n",
            "168 day VaR @ 95% confidence: 195517.02\n",
            "169 day VaR @ 95% confidence: 196098.06\n",
            "170 day VaR @ 95% confidence: 196677.37\n",
            "171 day VaR @ 95% confidence: 197254.99\n",
            "172 day VaR @ 95% confidence: 197830.91\n",
            "173 day VaR @ 95% confidence: 198405.17\n",
            "174 day VaR @ 95% confidence: 198977.77\n",
            "175 day VaR @ 95% confidence: 199548.73\n",
            "176 day VaR @ 95% confidence: 200118.05\n",
            "177 day VaR @ 95% confidence: 200685.77\n",
            "178 day VaR @ 95% confidence: 201251.88\n",
            "179 day VaR @ 95% confidence: 201816.4\n",
            "180 day VaR @ 95% confidence: 202379.35\n",
            "181 day VaR @ 95% confidence: 202940.73\n",
            "182 day VaR @ 95% confidence: 203500.57\n",
            "183 day VaR @ 95% confidence: 204058.87\n",
            "184 day VaR @ 95% confidence: 204615.65\n",
            "185 day VaR @ 95% confidence: 205170.92\n",
            "186 day VaR @ 95% confidence: 205724.69\n",
            "187 day VaR @ 95% confidence: 206276.97\n",
            "188 day VaR @ 95% confidence: 206827.78\n",
            "189 day VaR @ 95% confidence: 207377.12\n",
            "190 day VaR @ 95% confidence: 207925.01\n",
            "191 day VaR @ 95% confidence: 208471.47\n",
            "192 day VaR @ 95% confidence: 209016.49\n",
            "193 day VaR @ 95% confidence: 209560.1\n",
            "194 day VaR @ 95% confidence: 210102.3\n",
            "195 day VaR @ 95% confidence: 210643.1\n",
            "196 day VaR @ 95% confidence: 211182.52\n",
            "197 day VaR @ 95% confidence: 211720.57\n",
            "198 day VaR @ 95% confidence: 212257.25\n",
            "199 day VaR @ 95% confidence: 212792.58\n",
            "200 day VaR @ 95% confidence: 213326.56\n",
            "201 day VaR @ 95% confidence: 213859.21\n",
            "202 day VaR @ 95% confidence: 214390.54\n",
            "203 day VaR @ 95% confidence: 214920.56\n",
            "204 day VaR @ 95% confidence: 215449.27\n",
            "205 day VaR @ 95% confidence: 215976.68\n",
            "206 day VaR @ 95% confidence: 216502.81\n",
            "207 day VaR @ 95% confidence: 217027.67\n",
            "208 day VaR @ 95% confidence: 217551.26\n",
            "209 day VaR @ 95% confidence: 218073.59\n",
            "210 day VaR @ 95% confidence: 218594.68\n",
            "211 day VaR @ 95% confidence: 219114.52\n",
            "212 day VaR @ 95% confidence: 219633.14\n",
            "213 day VaR @ 95% confidence: 220150.53\n",
            "214 day VaR @ 95% confidence: 220666.71\n",
            "215 day VaR @ 95% confidence: 221181.69\n",
            "216 day VaR @ 95% confidence: 221695.47\n",
            "217 day VaR @ 95% confidence: 222208.06\n",
            "218 day VaR @ 95% confidence: 222719.47\n",
            "219 day VaR @ 95% confidence: 223229.71\n",
            "220 day VaR @ 95% confidence: 223738.79\n",
            "221 day VaR @ 95% confidence: 224246.71\n",
            "222 day VaR @ 95% confidence: 224753.48\n",
            "223 day VaR @ 95% confidence: 225259.11\n",
            "224 day VaR @ 95% confidence: 225763.61\n",
            "225 day VaR @ 95% confidence: 226266.99\n",
            "226 day VaR @ 95% confidence: 226769.25\n",
            "227 day VaR @ 95% confidence: 227270.39\n",
            "228 day VaR @ 95% confidence: 227770.44\n",
            "229 day VaR @ 95% confidence: 228269.39\n",
            "230 day VaR @ 95% confidence: 228767.25\n",
            "231 day VaR @ 95% confidence: 229264.03\n",
            "232 day VaR @ 95% confidence: 229759.74\n",
            "233 day VaR @ 95% confidence: 230254.38\n",
            "234 day VaR @ 95% confidence: 230747.96\n",
            "235 day VaR @ 95% confidence: 231240.48\n",
            "236 day VaR @ 95% confidence: 231731.96\n",
            "237 day VaR @ 95% confidence: 232222.4\n",
            "238 day VaR @ 95% confidence: 232711.8\n",
            "239 day VaR @ 95% confidence: 233200.18\n",
            "240 day VaR @ 95% confidence: 233687.54\n",
            "241 day VaR @ 95% confidence: 234173.88\n",
            "242 day VaR @ 95% confidence: 234659.22\n",
            "243 day VaR @ 95% confidence: 235143.55\n",
            "244 day VaR @ 95% confidence: 235626.89\n",
            "245 day VaR @ 95% confidence: 236109.24\n",
            "246 day VaR @ 95% confidence: 236590.6\n",
            "247 day VaR @ 95% confidence: 237070.99\n",
            "248 day VaR @ 95% confidence: 237550.41\n",
            "249 day VaR @ 95% confidence: 238028.86\n",
            "250 day VaR @ 95% confidence: 238506.35\n",
            "251 day VaR @ 95% confidence: 238982.88\n",
            "252 day VaR @ 95% confidence: 239458.47\n",
            "253 day VaR @ 95% confidence: 239933.12\n",
            "254 day VaR @ 95% confidence: 240406.83\n",
            "255 day VaR @ 95% confidence: 240879.6\n",
            "256 day VaR @ 95% confidence: 241351.45\n",
            "257 day VaR @ 95% confidence: 241822.38\n",
            "258 day VaR @ 95% confidence: 242292.4\n",
            "259 day VaR @ 95% confidence: 242761.5\n",
            "260 day VaR @ 95% confidence: 243229.7\n",
            "261 day VaR @ 95% confidence: 243697.0\n",
            "262 day VaR @ 95% confidence: 244163.41\n",
            "263 day VaR @ 95% confidence: 244628.93\n",
            "264 day VaR @ 95% confidence: 245093.56\n",
            "265 day VaR @ 95% confidence: 245557.31\n",
            "266 day VaR @ 95% confidence: 246020.19\n",
            "267 day VaR @ 95% confidence: 246482.2\n",
            "268 day VaR @ 95% confidence: 246943.35\n",
            "269 day VaR @ 95% confidence: 247403.63\n",
            "270 day VaR @ 95% confidence: 247863.07\n",
            "271 day VaR @ 95% confidence: 248321.65\n",
            "272 day VaR @ 95% confidence: 248779.38\n",
            "273 day VaR @ 95% confidence: 249236.28\n",
            "274 day VaR @ 95% confidence: 249692.34\n",
            "275 day VaR @ 95% confidence: 250147.57\n",
            "276 day VaR @ 95% confidence: 250601.97\n",
            "277 day VaR @ 95% confidence: 251055.55\n",
            "278 day VaR @ 95% confidence: 251508.31\n",
            "279 day VaR @ 95% confidence: 251960.25\n",
            "280 day VaR @ 95% confidence: 252411.39\n",
            "281 day VaR @ 95% confidence: 252861.72\n",
            "282 day VaR @ 95% confidence: 253311.26\n",
            "283 day VaR @ 95% confidence: 253759.99\n",
            "284 day VaR @ 95% confidence: 254207.94\n",
            "285 day VaR @ 95% confidence: 254655.09\n",
            "286 day VaR @ 95% confidence: 255101.46\n",
            "287 day VaR @ 95% confidence: 255547.06\n",
            "288 day VaR @ 95% confidence: 255991.87\n",
            "289 day VaR @ 95% confidence: 256435.92\n",
            "290 day VaR @ 95% confidence: 256879.2\n",
            "291 day VaR @ 95% confidence: 257321.71\n",
            "292 day VaR @ 95% confidence: 257763.46\n",
            "293 day VaR @ 95% confidence: 258204.46\n",
            "294 day VaR @ 95% confidence: 258644.71\n",
            "295 day VaR @ 95% confidence: 259084.21\n",
            "296 day VaR @ 95% confidence: 259522.96\n",
            "297 day VaR @ 95% confidence: 259960.98\n",
            "298 day VaR @ 95% confidence: 260398.25\n",
            "299 day VaR @ 95% confidence: 260834.8\n",
            "300 day VaR @ 95% confidence: 261270.61\n",
            "301 day VaR @ 95% confidence: 261705.7\n",
            "302 day VaR @ 95% confidence: 262140.07\n",
            "303 day VaR @ 95% confidence: 262573.72\n",
            "304 day VaR @ 95% confidence: 263006.65\n",
            "305 day VaR @ 95% confidence: 263438.87\n",
            "306 day VaR @ 95% confidence: 263870.38\n",
            "307 day VaR @ 95% confidence: 264301.19\n",
            "308 day VaR @ 95% confidence: 264731.3\n",
            "309 day VaR @ 95% confidence: 265160.71\n",
            "310 day VaR @ 95% confidence: 265589.43\n",
            "311 day VaR @ 95% confidence: 266017.45\n",
            "312 day VaR @ 95% confidence: 266444.79\n",
            "313 day VaR @ 95% confidence: 266871.44\n",
            "314 day VaR @ 95% confidence: 267297.42\n",
            "315 day VaR @ 95% confidence: 267722.71\n",
            "316 day VaR @ 95% confidence: 268147.33\n",
            "317 day VaR @ 95% confidence: 268571.28\n",
            "318 day VaR @ 95% confidence: 268994.56\n",
            "319 day VaR @ 95% confidence: 269417.17\n",
            "320 day VaR @ 95% confidence: 269839.13\n",
            "321 day VaR @ 95% confidence: 270260.42\n",
            "322 day VaR @ 95% confidence: 270681.06\n",
            "323 day VaR @ 95% confidence: 271101.05\n",
            "324 day VaR @ 95% confidence: 271520.38\n",
            "325 day VaR @ 95% confidence: 271939.07\n",
            "326 day VaR @ 95% confidence: 272357.12\n",
            "327 day VaR @ 95% confidence: 272774.53\n",
            "328 day VaR @ 95% confidence: 273191.3\n",
            "329 day VaR @ 95% confidence: 273607.43\n",
            "330 day VaR @ 95% confidence: 274022.93\n",
            "331 day VaR @ 95% confidence: 274437.8\n",
            "332 day VaR @ 95% confidence: 274852.05\n",
            "333 day VaR @ 95% confidence: 275265.67\n",
            "334 day VaR @ 95% confidence: 275678.67\n",
            "335 day VaR @ 95% confidence: 276091.06\n",
            "336 day VaR @ 95% confidence: 276502.83\n",
            "337 day VaR @ 95% confidence: 276913.98\n",
            "338 day VaR @ 95% confidence: 277324.53\n",
            "339 day VaR @ 95% confidence: 277734.47\n",
            "340 day VaR @ 95% confidence: 278143.81\n",
            "341 day VaR @ 95% confidence: 278552.54\n",
            "342 day VaR @ 95% confidence: 278960.68\n",
            "343 day VaR @ 95% confidence: 279368.22\n",
            "344 day VaR @ 95% confidence: 279775.16\n",
            "345 day VaR @ 95% confidence: 280181.52\n",
            "346 day VaR @ 95% confidence: 280587.28\n",
            "347 day VaR @ 95% confidence: 280992.46\n",
            "348 day VaR @ 95% confidence: 281397.06\n",
            "349 day VaR @ 95% confidence: 281801.08\n",
            "350 day VaR @ 95% confidence: 282204.51\n",
            "351 day VaR @ 95% confidence: 282607.38\n",
            "352 day VaR @ 95% confidence: 283009.66\n",
            "353 day VaR @ 95% confidence: 283411.38\n",
            "354 day VaR @ 95% confidence: 283812.53\n",
            "355 day VaR @ 95% confidence: 284213.11\n",
            "356 day VaR @ 95% confidence: 284613.13\n",
            "357 day VaR @ 95% confidence: 285012.59\n",
            "358 day VaR @ 95% confidence: 285411.49\n",
            "359 day VaR @ 95% confidence: 285809.83\n",
            "360 day VaR @ 95% confidence: 286207.62\n"
          ]
        },
        {
          "output_type": "execute_result",
          "data": {
            "text/plain": [
              "[<matplotlib.lines.Line2D at 0x7f908fe2a050>]"
            ]
          },
          "metadata": {},
          "execution_count": 14
        },
        {
          "output_type": "display_data",
          "data": {
            "text/plain": [
              "<Figure size 640x480 with 1 Axes>"
            ],
            "image/png": "[encoded data removed]"
          },
          "metadata": {}
        }
      ]
    },
    {
      "cell_type": "markdown",
      "metadata": {
        "id": "imLClShXdAdB"
      },
      "source": [
        "Pode-se, ainda, verificar as distribuições de nossas ações em relação à distribuição normal."
      ]
    },
    {
      "cell_type": "code",
      "metadata": {
        "id": "mN5cH-MqbL3J",
        "colab": {
          "base_uri": "https://localhost:8080/",
          "height": 452
        },
        "outputId": "42fc36df-206e-4044-a3dd-7ca7d7154c33"
      },
      "source": [
        "import matplotlib.mlab as mlab\n",
        "import matplotlib.pyplot as plt\n",
        "import scipy\n",
        "\n",
        "returns['AAPL'].hist(bins=40,histtype=\"stepfilled\",alpha=0.5,density=True)\n",
        "x = np.linspace(port_mean - 3*port_stdev, port_mean+3*port_stdev,100)\n",
        "plt.plot(x, scipy.stats.norm.pdf(x, port_mean, port_stdev), \"r\")\n",
        "plt.title(\"AAPL returns (binned) vs. normal distribution\")\n",
        "plt.show()"
      ],
      "execution_count": null,
      "outputs": [
        {
          "output_type": "display_data",
          "data": {
            "text/plain": [
              "<Figure size 640x480 with 1 Axes>"
            ],
            "image/png": "[encoded data removed]"
          },
          "metadata": {}
        }
      ]
    },
    {
      "cell_type": "code",
      "metadata": {
        "id": "e5E6u2PLdNqT",
        "colab": {
          "base_uri": "https://localhost:8080/",
          "height": 452
        },
        "outputId": "0b87797b-4280-4e99-b55c-d47885f400cd"
      },
      "source": [
        "returns['C'].hist(bins=40, histtype=\"stepfilled\",alpha=0.5, density=True)\n",
        "x = np.linspace(port_mean - 3*port_stdev, port_mean+3*port_stdev,100)\n",
        "plt.plot(x, scipy.stats.norm.pdf(x, port_mean, port_stdev), \"r\")\n",
        "plt.title(\"C returns (binned) vs. normal distribution\")\n",
        "plt.show()"
      ],
      "execution_count": null,
      "outputs": [
        {
          "output_type": "display_data",
          "data": {
            "text/plain": [
              "<Figure size 640x480 with 1 Axes>"
            ],
            "image/png": "[encoded data removed]"
          },
          "metadata": {}
        }
      ]
    },
    {
      "cell_type": "code",
      "metadata": {
        "id": "q9t-MhwrdOH7",
        "colab": {
          "base_uri": "https://localhost:8080/",
          "height": 452
        },
        "outputId": "13836414-4a2a-48e7-8e2e-f8edb18229cf"
      },
      "source": [
        "returns['DIS'].hist(bins=40,histtype=\"stepfilled\",alpha=0.5, density=True)\n",
        "x = np.linspace(port_mean - 3*port_stdev, port_mean+3*port_stdev,100)\n",
        "plt.plot(x, scipy.stats.norm.pdf(x, port_mean, port_stdev), \"r\")\n",
        "plt.title(\"DIS returns (binned) vs. normal distribution\")\n",
        "plt.show()"
      ],
      "execution_count": null,
      "outputs": [
        {
          "output_type": "display_data",
          "data": {
            "text/plain": [
              "<Figure size 640x480 with 1 Axes>"
            ],
            "image/png": "[encoded data removed]"
          },
          "metadata": {}
        }
      ]
    },
    {
      "cell_type": "markdown",
      "source": [
        "*RESERVADO PARA COMENTÁRIOS DO AVALIADOR SOBRE A ANÁLISE DOS RESULTADOS*"
      ],
      "metadata": {
        "id": "cEyje6Lrn0O4"
      }
    },
    {
      "cell_type": "markdown",
      "source": [
        "# **CONCLUSÃO**\n",
        "\n",
        "O cálculo e análise do VaR revelou-se com uma indicador importante para avaliação do risco em carteira de ações. O metodologia permitiu a análise conjunta de um grabnde número de ações, assim como a distribuição de cada ação em separado.\n",
        "\n",
        "Este pode notebook pode ser utilizado diretamente alterando-se diretamente os dados de entrada ou estendido para análises mais complexas."
      ],
      "metadata": {
        "id": "AoWwd_giml1F"
      }
    },
    {
      "cell_type": "markdown",
      "source": [
        "*RESERVADO PARA COMENTÁRIOS DO AVALIADOR SOBRE A CONCLUSÃO*"
      ],
      "metadata": {
        "id": "3bQ5qYZxn8Dl"
      }
    },
    {
      "cell_type": "markdown",
      "source": [
        "**AVALIAÇÃO SEGUNDO RUBRICA DO PE**"
      ],
      "metadata": {
        "id": "mx3ELuiln_5F"
      }
    },
    {
      "cell_type": "code",
      "source": [
        "import datetime\n",
        "import ipywidgets as widgets\n",
        "\n",
        "start_date = widgets.DatePicker(\n",
        "    description='Data apresentação',\n",
        "    disabled=False\n",
        ")\n",
        "end_date = widgets.DatePicker(\n",
        "    description='Data Avaliação',\n",
        "    disabled=False\n",
        ")\n",
        "\n",
        "widgets.HBox([start_date, end_date])"
      ],
      "metadata": {
        "id": "tkRO-UHc0v8n",
        "colab": {
          "base_uri": "https://localhost:8080/",
          "height": 49,
          "referenced_widgets": [
            "d9fe6534b3dd410ba5a643a0096b93d6",
            "098207f2807a4c9e8aa833220e2a2e21",
            "2d34a2f8270f481fa71a60be5f161e48",
            "caee8523e55f48f88c235c79e1e6f4c4",
            "f9438e17b750476a8dd4033998e066ea",
            "0a1efadc49db43edb94e367563cc0d30",
            "06bba62a8d83467a93b40180f59eb842",
            "e9ad5f9e85024361bd69aec16586c71d"
          ]
        },
        "outputId": "cedcc8bf-50b5-41e4-c10f-ea968db39968"
      },
      "execution_count": null,
      "outputs": [
        {
          "output_type": "display_data",
          "data": {
            "text/plain": [
              "HBox(children=(DatePicker(value=None, description='Data apresentação'), DatePicker(value=None, description='Da…"
            ],
            "application/vnd.jupyter.widget-view+json": {
              "version_major": 2,
              "version_minor": 0,
              "model_id": "d9fe6534b3dd410ba5a643a0096b93d6"
            }
          },
          "metadata": {}
        }
      ]
    },
    {
      "cell_type": "code",
      "source": [
        "grade = widgets.SelectMultiple(\n",
        "    options=['INSUFICIENTE', 'BÁSICO', 'EM DESENVOLVIMENTO', 'PROFICIENTE'],\n",
        "    value=['INSUFICIENTE', 'BÁSICO', 'EM DESENVOLVIMENTO', 'PROFICIENTE'],\n",
        "    description='Conceito',\n",
        "    disabled=False,\n",
        "    rows=4\n",
        ")\n",
        "\n",
        "display(grade)\n"
      ],
      "metadata": {
        "id": "cZB3gupR3Cdr",
        "colab": {
          "base_uri": "https://localhost:8080/",
          "height": 93,
          "referenced_widgets": [
            "e654a38293924557aa3c44626fed8cf5",
            "00976f85c505490dadad7ddddcf7a038",
            "6374404b448749f5a72ddef652279bcf"
          ]
        },
        "outputId": "65203fba-78cb-4421-f4c3-65a0b291dcd6"
      },
      "execution_count": null,
      "outputs": [
        {
          "output_type": "display_data",
          "data": {
            "text/plain": [
              "SelectMultiple(description='Conceito', index=(0, 1, 2, 3), options=('INSUFICIENTE', 'BÁSICO', 'EM DESENVOLVIME…"
            ],
            "application/vnd.jupyter.widget-view+json": {
              "version_major": 2,
              "version_minor": 0,
              "model_id": "e654a38293924557aa3c44626fed8cf5"
            }
          },
          "metadata": {}
        }
      ]
    }
  ]
}