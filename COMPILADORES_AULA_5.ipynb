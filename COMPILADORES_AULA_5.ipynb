{
  "nbformat": 4,
  "nbformat_minor": 0,
  "metadata": {
    "colab": {
      "name": "COMPILADORES-AULA 5.ipynb",
      "provenance": [],
      "collapsed_sections": [],
      "include_colab_link": true
    },
    "kernelspec": {
      "name": "python3",
      "display_name": "Python 3"
    }
  },
  "cells": [
    {
      "cell_type": "markdown",
      "metadata": {
        "id": "view-in-github",
        "colab_type": "text"
      },
      "source": [
        "<a href=\"https://colab.research.google.com/github/lucianosilva-github/compiladores/blob/main/COMPILADORES_AULA_5.ipynb\" target=\"_parent\"><img src=\"https://colab.research.google.com/assets/colab-badge.svg\" alt=\"Open In Colab\"/></a>"
      ]
    },
    {
      "cell_type": "markdown",
      "metadata": {
        "id": "EwxHf3E81Qyz"
      },
      "source": [
        "**COMPILADORES - AULA 05**\n",
        "\n",
        "**Prof. Luciano Silva**\n",
        "\n",
        "**OBJETIVOS DA AULA:**\n",
        "\n",
        "\n",
        "\n",
        "*   Entender e praticar com o algoritmo de análise sintática [ LALR(1) ] da ferramenta rply\n",
        "*   Entender e praticar com processo de detecção de erros de análise sintática\n",
        "\n"
      ]
    },
    {
      "cell_type": "code",
      "metadata": {
        "id": "CbWUx55j1tLM"
      },
      "source": [
        "!pip install rply"
      ],
      "execution_count": null,
      "outputs": []
    },
    {
      "cell_type": "markdown",
      "metadata": {
        "id": "WDogT1ytJrEt"
      },
      "source": [
        "**ALGORITMO DE ANÁLISE SINTÁTICA LALR(1)**\n",
        "\n",
        "Anteriormente, implementamos um analisador sintático completo para o comando de atribuição com expressões ariméticas envolvendo números inteiros sem sinal:\n",
        "\n",
        "\\<atrib\\>::= ID \"=\" \\<expression\\>\n",
        "\n",
        "\\<expression\\> ::= NUMBER\n",
        "\n",
        "       | \\<expression\\> \"+\" \\<expression\\>\n",
        " \n",
        "       | \\<expression\\> \"-\" \\<expression\\>\n",
        " \n",
        "       | \\<expression\\> \"*\" \\<expression\\>\n",
        " \n",
        "       | \\<expression\\> \"/\" \\<expression\\>\n",
        " \n",
        "       | \"(\" <expression> \")\""
      ]
    },
    {
      "cell_type": "markdown",
      "metadata": {
        "id": "ACSuZUyEJ2oQ"
      },
      "source": [
        "O primeiro passo foi implementar um analisador léxico para esta gramática, mostrado abaixo:\n"
      ]
    },
    {
      "cell_type": "code",
      "metadata": {
        "id": "AohGQ2yWKDli"
      },
      "source": [
        "from rply import LexerGenerator\n",
        "\n",
        "lg = LexerGenerator()\n",
        "\n",
        "lg.add('ID', r'[a-zA-Z][a-zA-Z0-9]*')\n",
        "lg.add('EQUALS', r'=')\n",
        "lg.add('NUMBER', r'\\d+')\n",
        "lg.add('PLUS', r'\\+')\n",
        "lg.add('MINUS', r'-')\n",
        "lg.add('MUL', r'\\*')\n",
        "lg.add('DIV', r'/')\n",
        "lg.add('OPEN_PARENS', r'\\(')\n",
        "lg.add('CLOSE_PARENS', r'\\)')\n",
        "\n",
        "lg.ignore('\\s+')\n",
        "\n",
        "lexer = lg.build()"
      ],
      "execution_count": null,
      "outputs": []
    },
    {
      "cell_type": "markdown",
      "metadata": {
        "id": "ricXOj1eH7Da"
      },
      "source": [
        "O segundo passo foi implementar as classes em Python para representar os nós da árvore sintática gerada pelo analisador sintático:"
      ]
    },
    {
      "cell_type": "code",
      "metadata": {
        "id": "RLcu5RuHDl6B"
      },
      "source": [
        "from rply.token import BaseBox\n",
        "\n",
        "class Number(BaseBox):\n",
        "    def __init__(self, value):\n",
        "        self.value = value\n",
        "\n",
        "    def eval(self):\n",
        "        return self.value\n",
        "\n",
        "class BinaryOp(BaseBox):\n",
        "    def __init__(self, left, right):\n",
        "        self.left = left\n",
        "        self.right = right\n",
        "\n",
        "class Add(BinaryOp):\n",
        "    def eval(self):\n",
        "        return self.left.eval() + self.right.eval()\n",
        "\n",
        "class Sub(BinaryOp):\n",
        "    def eval(self):\n",
        "        return self.left.eval() - self.right.eval()\n",
        "\n",
        "class Mul(BinaryOp):\n",
        "    def eval(self):\n",
        "        return self.left.eval() * self.right.eval()\n",
        "\n",
        "class Div(BinaryOp):\n",
        "    def eval(self):\n",
        "        return self.left.eval() / self.right.eval()\n",
        "\n",
        "class Attrib(BaseBox):\n",
        "    def __init__(self, id, expression):\n",
        "        self.id = id\n",
        "        self.expression = expression"
      ],
      "execution_count": null,
      "outputs": []
    },
    {
      "cell_type": "markdown",
      "metadata": {
        "id": "3OEfEiOCIVxX"
      },
      "source": [
        "Finalmente, foi implementado o analisado sintático para o comando de atribuição:"
      ]
    },
    {
      "cell_type": "code",
      "metadata": {
        "id": "2MB_wWwWEGcX"
      },
      "source": [
        "from rply import ParserGenerator\n",
        "\n",
        "pg = ParserGenerator(\n",
        "    # A list of all token names, accepted by the lexer.\n",
        "    ['NUMBER', 'OPEN_PARENS', 'CLOSE_PARENS',\n",
        "     'PLUS', 'MINUS', 'MUL', 'DIV','ID','EQUALS'\n",
        "    ],\n",
        "    # A list of precedence rules with ascending precedence, to\n",
        "    # disambiguate ambiguous production rules.\n",
        "    precedence=[\n",
        "        ('left', ['PLUS', 'MINUS']),\n",
        "        ('left', ['MUL', 'DIV'])    \n",
        "    ]\n",
        ")\n",
        "\n",
        "# regra <atrib>::= ID \"=\" <expression>\n",
        "\n",
        "@pg.production('atrib : ID EQUALS expression')\n",
        "def attrib(p):\n",
        "  return Attrib(p[0].getstr(),p[2])\n",
        "\n",
        "@pg.production('expression : NUMBER')\n",
        "def expression_number(p):\n",
        "    # p is a list of the pieces matched by the right hand side of the\n",
        "    # rule\n",
        "    return Number(int(p[0].getstr()))\n",
        "\n",
        "@pg.production('expression : OPEN_PARENS expression CLOSE_PARENS')\n",
        "def expression_parens(p):\n",
        "    return p[1]\n",
        "\n",
        "@pg.production('expression : expression PLUS expression')\n",
        "@pg.production('expression : expression MINUS expression')\n",
        "@pg.production('expression : expression MUL expression')\n",
        "@pg.production('expression : expression DIV expression')\n",
        "def expression_binop(p):\n",
        "    left = p[0]\n",
        "    right = p[2]\n",
        "    if p[1].gettokentype() == 'PLUS':\n",
        "        return Add(left, right)\n",
        "    elif p[1].gettokentype() == 'MINUS':\n",
        "        return Sub(left, right)\n",
        "    elif p[1].gettokentype() == 'MUL':\n",
        "        return Mul(left, right)\n",
        "    elif p[1].gettokentype() == 'DIV':\n",
        "        return Div(left, right)\n",
        "    else:\n",
        "        raise AssertionError('Oops, this should not be possible!')\n",
        "\n",
        "parser = pg.build()"
      ],
      "execution_count": null,
      "outputs": []
    },
    {
      "cell_type": "markdown",
      "metadata": {
        "id": "XaWSNLQeJG8F"
      },
      "source": [
        "Realizamos um teste com um comando de atribuição:"
      ]
    },
    {
      "cell_type": "code",
      "metadata": {
        "id": "f9H91s7fFWdB"
      },
      "source": [
        "arvore=parser.parse(lexer.lex('x=1+2*3'))\n",
        "print(arvore)\n",
        "print(arvore.id)\n",
        "print(arvore.expression.eval())"
      ],
      "execution_count": null,
      "outputs": []
    },
    {
      "cell_type": "markdown",
      "metadata": {
        "id": "kp5zx9gB-92G"
      },
      "source": [
        "O algoritmo de análise sintática utilizado pela ferramenta rply é o LALR(1). Esta sigla significa que:\n",
        "\n",
        "*   o analisador irá olhar (**LOOK AHEAD**), no máximo, um token da entrada para decidir qual regra gramatical irá aplicar\n",
        "*   o analisador irá analisar a entrada da esquerda para a direita **(L)** e fará as reduções o mais à direita **(R)** possível. \n",
        "\n",
        "Para entender como esta algoritmo funciona, vamos utilizar a ferramenta online abaixo:\n",
        "\n",
        "https://fiona.dmcs.pl/tk/jsmachines.sourceforge.net/machines/lalr1.html\n",
        "\n",
        "\n",
        "\n"
      ]
    }
  ]
}