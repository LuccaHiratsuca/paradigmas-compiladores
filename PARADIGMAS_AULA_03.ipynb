{
  "nbformat": 4,
  "nbformat_minor": 0,
  "metadata": {
    "colab": {
      "name": "COMPILADORES-AULA 3.ipynb",
      "provenance": [],
      "include_colab_link": true
    },
    "kernelspec": {
      "name": "python3",
      "display_name": "Python 3"
    }
  },
  "cells": [
    {
      "cell_type": "markdown",
      "metadata": {
        "id": "view-in-github",
        "colab_type": "text"
      },
      "source": [
        "<a href=\"https://colab.research.google.com/github/LuccaHiratsuca/compiladores/blob/main/PARADIGMAS_AULA_03.ipynb\" target=\"_parent\"><img src=\"https://colab.research.google.com/assets/colab-badge.svg\" alt=\"Open In Colab\"/></a>"
      ]
    },
    {
      "cell_type": "markdown",
      "metadata": {
        "id": "EwxHf3E81Qyz"
      },
      "source": [
        "**PARADIGMAS - AULA 03**\n",
        "\n",
        "**Prof. Luciano Silva**\n",
        "\n",
        "**OBJETIVOS DA AULA:**\n",
        "\n",
        "\n",
        "\n",
        "*   Revisar o proceso de análise léxica\n",
        "*   Introduzir o processo de análise sintática\n",
        "*   Implementar analisadores sintáticos usando a ferramenta rply\n",
        "\n"
      ]
    },
    {
      "cell_type": "markdown",
      "metadata": {
        "id": "QGMxqj9y7vWS"
      },
      "source": [
        "**REVISÃO DO PROCESSO DE ANÁLISE LÉXICA**\n",
        "\n",
        "Nas nossas aulas passadas, trabalhamos com a gramática abaixo, que permite reconhecer expressões aritméticas:\n",
        "\n",
        "\\<expression\\> ::= NUMBER\n",
        "\n",
        "               | \\<expression\\> \"+\" \\<expression\\>\n",
        "\n",
        "               | \\<expression\\> \"-\" \\<expression\\>\n",
        "\n",
        "               | \\<expression\\> \"*\" \\<expression\\>\n",
        "\n",
        "               | \\<expression\\> \"/\" \\<expression\\>\n",
        "\n",
        "               | \"(\" <expression> \")\""
      ]
    },
    {
      "cell_type": "markdown",
      "metadata": {
        "id": "vdlT1XbX8PFb"
      },
      "source": [
        "Para usar o módulo rply, primeiro instalamos o pacote no nosso notebook:\n",
        "\n"
      ]
    },
    {
      "cell_type": "code",
      "metadata": {
        "id": "CbWUx55j1tLM",
        "colab": {
          "base_uri": "https://localhost:8080/"
        },
        "outputId": "6c1dfb6a-cc88-41cc-a2af-473c542b47eb"
      },
      "source": [
        "!pip install rply"
      ],
      "execution_count": 1,
      "outputs": [
        {
          "output_type": "stream",
          "name": "stdout",
          "text": [
            "Collecting rply\n",
            "  Downloading rply-0.7.8-py2.py3-none-any.whl (16 kB)\n",
            "Requirement already satisfied: appdirs in /usr/local/lib/python3.10/dist-packages (from rply) (1.4.4)\n",
            "Installing collected packages: rply\n",
            "Successfully installed rply-0.7.8\n"
          ]
        }
      ]
    },
    {
      "cell_type": "markdown",
      "metadata": {
        "id": "Mdp5ClkZ98Tw"
      },
      "source": [
        "O segundo passo foi construir um analisador léxico, que quebrava as nossas expressões em tokens:"
      ]
    },
    {
      "cell_type": "code",
      "metadata": {
        "id": "Rezf3OAt1P7_"
      },
      "source": [
        "from rply import LexerGenerator\n",
        "\n",
        "lg = LexerGenerator()\n",
        "\n",
        "lg.add('NUMBER', r'\\d+')\n",
        "lg.add('PLUS', r'\\+')\n",
        "lg.add('MINUS', r'-')\n",
        "lg.add('MUL', r'\\*')\n",
        "lg.add('DIV', r'/')\n",
        "lg.add('OPEN_PARENS', r'\\(')\n",
        "lg.add('CLOSE_PARENS', r'\\)')\n",
        "\n",
        "lg.ignore('\\s+')\n",
        "\n",
        "lexer = lg.build()"
      ],
      "execution_count": 2,
      "outputs": []
    },
    {
      "cell_type": "markdown",
      "metadata": {
        "id": "g0EtKi3iABw7"
      },
      "source": [
        "Para mostrar somente os tokens reconhecidos de uma expressão, podemos utilizar o código abaixo:"
      ]
    },
    {
      "cell_type": "code",
      "metadata": {
        "id": "lY0_GHM9ARAK",
        "colab": {
          "base_uri": "https://localhost:8080/"
        },
        "outputId": "1ef999e9-525c-431d-94fc-982d82903003"
      },
      "source": [
        "for token in lexer.lex('1+1-1'):\n",
        "  print(token)"
      ],
      "execution_count": 3,
      "outputs": [
        {
          "output_type": "stream",
          "name": "stdout",
          "text": [
            "Token('NUMBER', '1')\n",
            "Token('PLUS', '+')\n",
            "Token('NUMBER', '1')\n",
            "Token('MINUS', '-')\n",
            "Token('NUMBER', '1')\n"
          ]
        }
      ]
    },
    {
      "cell_type": "markdown",
      "metadata": {
        "id": "R7eXfPcV-M-R"
      },
      "source": [
        "**PROCESSO DE ANÁLISE SINTÁTICA**\n",
        "\n",
        "A análise sintática é o segundo passo no processo de compilação:\n",
        "\n",
        "<img src=\"https://www.researchgate.net/profile/Nuno-Oliveira-15/publication/266497079/figure/fig1/AS:295651775664128@1447500284302/Common-Compiler-Phases.png\"> <img>\n",
        "\n",
        "Um **analisador sintático** recebe uma sequencia de tokens identificados pelo **analisador léxico** e verifica se estes tokens estão na ordem correta, segundo a **gramática** da linguagem que está sendo compilada.\n",
        "\n",
        "O produto final do processo de análise sintática é uma **árvore n-ária** chamada **árvore de análise sintática**.\n",
        "\n",
        "<img src=\"https://i.stack.imgur.com/woqkC.png\"> <img>\n",
        "\n",
        "Cada nó desta árvore sintática armazena uma parte reconhecida da entrada, de acordo com a gramática fornecida:\n",
        "\n",
        "\\<expression\\> ::= NUMBER\n",
        "\n",
        "               | \\<expression\\> \"+\" \\<expression\\>\n",
        "\n",
        "               | \\<expression\\> \"-\" \\<expression\\>\n",
        "\n",
        "               | \\<expression\\> \"*\" \\<expression\\>\n",
        "\n",
        "               | \\<expression\\> \"/\" \\<expression\\>\n",
        "\n",
        "               | \"(\" <expression> \")\"\n",
        "\n",
        "\n",
        "Normalmente, para cada linha da gramática, criamos uma classe para representar tal linha:\n",
        "\n"
      ]
    },
    {
      "cell_type": "code",
      "metadata": {
        "id": "PbD2HvRH1__m"
      },
      "source": [
        "from rply.token import BaseBox\n",
        "\n",
        "class Number(BaseBox):\n",
        "    def __init__(self, value):\n",
        "        self.value = value\n",
        "\n",
        "    def eval(self):\n",
        "        return self.value\n",
        "\n",
        "class BinaryOp(BaseBox):\n",
        "    def __init__(self, left, right):\n",
        "        self.left = left\n",
        "        self.right = right\n",
        "\n",
        "class Add(BinaryOp):\n",
        "    def eval(self):\n",
        "        return self.left.eval() + self.right.eval()\n",
        "\n",
        "class Sub(BinaryOp):\n",
        "    def eval(self):\n",
        "        return self.left.eval() - self.right.eval()\n",
        "\n",
        "class Mul(BinaryOp):\n",
        "    def eval(self):\n",
        "        return self.left.eval() * self.right.eval()\n",
        "\n",
        "class Div(BinaryOp):\n",
        "    def eval(self):\n",
        "        return self.left.eval() / self.right.eval()"
      ],
      "execution_count": 4,
      "outputs": []
    },
    {
      "cell_type": "markdown",
      "metadata": {
        "id": "E-ZtegGt-Rzp"
      },
      "source": [
        "\n",
        "Uma vez que temos como representar cada linha a nossa gramática, dentro de cada nó, observem que temos um método eval. Este método irá calcular o valor representado pot aquele nó. Posteriormente iremos acrescentar novos métodos para, por exemplo, verificar tipos, gerar código, dentre outros.\n",
        "\n",
        "Finalmente, temos a implementação do analisador sintático:\n",
        "\n"
      ]
    },
    {
      "cell_type": "code",
      "metadata": {
        "id": "AZhvrrKL4Wjs"
      },
      "source": [
        "from rply import ParserGenerator\n",
        "\n",
        "pg = ParserGenerator(\n",
        "    # A list of all token names, accepted by the lexer.\n",
        "    ['NUMBER', 'OPEN_PARENS', 'CLOSE_PARENS',\n",
        "     'PLUS', 'MINUS', 'MUL', 'DIV'\n",
        "    ],\n",
        "    # A list of precedence rules with ascending precedence, to\n",
        "    # disambiguate ambiguous production rules.\n",
        "    precedence=[\n",
        "        ('left', ['PLUS', 'MINUS']),\n",
        "        ('left', ['MUL', 'DIV'])\n",
        "    ]\n",
        ")\n",
        "\n",
        "@pg.production('expression : NUMBER')\n",
        "def expression_number(p):\n",
        "    # p is a list of the pieces matched by the right hand side of the\n",
        "    # rule\n",
        "    return Number(int(p[0].getstr()))\n",
        "\n",
        "@pg.production('expression : OPEN_PARENS expression CLOSE_PARENS')\n",
        "def expression_parens(p):\n",
        "    return p[1]\n",
        "\n",
        "@pg.production('expression : expression PLUS expression')\n",
        "@pg.production('expression : expression MINUS expression')\n",
        "@pg.production('expression : expression MUL expression')\n",
        "@pg.production('expression : expression DIV expression')\n",
        "def expression_binop(p):\n",
        "    left = p[0]\n",
        "    right = p[2]\n",
        "    if p[1].gettokentype() == 'PLUS':\n",
        "        return Add(left, right)\n",
        "    elif p[1].gettokentype() == 'MINUS':\n",
        "        return Sub(left, right)\n",
        "    elif p[1].gettokentype() == 'MUL':\n",
        "        return Mul(left, right)\n",
        "    elif p[1].gettokentype() == 'DIV':\n",
        "        return Div(left, right)\n",
        "    else:\n",
        "        raise AssertionError('Oops, this should not be possible!')\n",
        "\n",
        "parser = pg.build()\n"
      ],
      "execution_count": 10,
      "outputs": []
    },
    {
      "cell_type": "markdown",
      "metadata": {
        "id": "UrRasgZS-b_1"
      },
      "source": [
        "Como resultado, temos a árvore sintática. Percorrendo esta árvore, podemos calcular o valor da expressão usando o método eval()."
      ]
    },
    {
      "cell_type": "code",
      "metadata": {
        "id": "gAJAmar_6vLd",
        "colab": {
          "base_uri": "https://localhost:8080/"
        },
        "outputId": "cbc1dc2b-784e-4551-cbf8-5ccc9b54519b"
      },
      "source": [
        "parser.parse(lexer.lex('1 + 1')).eval()"
      ],
      "execution_count": 6,
      "outputs": [
        {
          "output_type": "execute_result",
          "data": {
            "text/plain": [
              "2"
            ]
          },
          "metadata": {},
          "execution_count": 6
        }
      ]
    },
    {
      "cell_type": "code",
      "source": [
        "parser.parse(lexer.lex('(2*6/2)-45/(3*5)')).eval()"
      ],
      "metadata": {
        "colab": {
          "base_uri": "https://localhost:8080/"
        },
        "id": "xqz2bnBRVKbh",
        "outputId": "f49d6c5d-df43-401b-91c3-b1a53212e288"
      },
      "execution_count": 8,
      "outputs": [
        {
          "output_type": "execute_result",
          "data": {
            "text/plain": [
              "3.0"
            ]
          },
          "metadata": {},
          "execution_count": 8
        }
      ]
    },
    {
      "cell_type": "markdown",
      "metadata": {
        "id": "5zwOD5FfJZ-S"
      },
      "source": [
        "**EXERCÍCIO**\n",
        "\n",
        "Modifique a gramática abaixo para permitir atribuições do tipo x=1+2*3:\n",
        "\n",
        "\\<atrib\\> :: = id \"=\" \\<expression\\> \";\"\n",
        "\n",
        "\\<expression\\> ::= NUMBER\n",
        "\n",
        "           | \\<expression\\> \"+\" \\<expression\\>\n",
        "\n",
        "           | \\<expression\\> \"-\" \\<expression\\>\n",
        "\n",
        "           | \\<expression\\> \"*\" \\<expression\\>\n",
        "\n",
        "           | \\<expression\\> \"/\" \\<expression\\>\n",
        "\n",
        "           | \"(\" <expression> \")\""
      ]
    },
    {
      "cell_type": "markdown",
      "metadata": {
        "id": "ACSuZUyEJ2oQ"
      },
      "source": [
        "**EXERCÍCIO**\n",
        "\n",
        "Implemente um analisador sintático para a gramática modificada do exercício anterior:\n"
      ]
    },
    {
      "cell_type": "markdown",
      "source": [
        "\n",
        "\\<atrib\\> :: = id \"=\" \\<expression\\> \";\"\n",
        "\n",
        "\\<expression\\> ::= NUMBER\n",
        "\n",
        "           | \\<expression\\> \"+\" \\<expression\\>\n",
        "\n",
        "           | \\<expression\\> \"-\" \\<expression\\>\n",
        "\n",
        "           | \\<expression\\> \"*\" \\<expression\\>\n",
        "\n",
        "           | \\<expression\\> \"/\" \\<expression\\>\n",
        "\n",
        "           | \"(\" <expression> \")\""
      ],
      "metadata": {
        "id": "E6KbQbVYXz_O"
      }
    },
    {
      "cell_type": "markdown",
      "source": [
        "1) Arrumar o analisador léxico"
      ],
      "metadata": {
        "id": "u-0h3oaMWhBs"
      }
    },
    {
      "cell_type": "code",
      "source": [
        "from rply import LexerGenerator\n",
        "\n",
        "lg = LexerGenerator()\n",
        "\n",
        "lg.add('NUMBER', r'\\d+')\n",
        "lg.add('PLUS', r'\\+')\n",
        "lg.add('ID', r'[a-z A-Z][a-z A-Z\\d]*')\n",
        "lg.add('EQUALS', r'=')\n",
        "lg.add('DELIM', r';')\n",
        "lg.add('MINUS', r'-')\n",
        "lg.add('MUL', r'\\*')\n",
        "lg.add('DIV', r'/')\n",
        "lg.add('OPEN_PARENS', r'\\(')\n",
        "lg.add('CLOSE_PARENS', r'\\)')\n",
        "\n",
        "lg.ignore('\\s+')\n",
        "\n",
        "lexer = lg.build()"
      ],
      "metadata": {
        "id": "sf_0E-zJSuS5"
      },
      "execution_count": 15,
      "outputs": []
    },
    {
      "cell_type": "markdown",
      "source": [
        "2) Implementação analisador léxico"
      ],
      "metadata": {
        "id": "opEjckUFW-jJ"
      }
    },
    {
      "cell_type": "code",
      "source": [
        "from rply.token import BaseBox\n",
        "\n",
        "class Number(BaseBox):\n",
        "    def __init__(self, value):\n",
        "        self.value = value\n",
        "\n",
        "    def eval(self):\n",
        "        return self.value\n",
        "\n",
        "class BinaryOp(BaseBox):\n",
        "    def __init__(self, left, right):\n",
        "        self.left = left\n",
        "        self.right = right\n",
        "\n",
        "class Add(BinaryOp):\n",
        "    def eval(self):\n",
        "        return self.left.eval() + self.right.eval()\n",
        "\n",
        "class Sub(BinaryOp):\n",
        "    def eval(self):\n",
        "        return self.left.eval() - self.right.eval()\n",
        "\n",
        "class Mul(BinaryOp):\n",
        "    def eval(self):\n",
        "        return self.left.eval() * self.right.eval()\n",
        "\n",
        "class Div(BinaryOp):\n",
        "    def eval(self):\n",
        "        return self.left.eval() / self.right.eval()\n",
        "\n",
        "class Attribution(BaseBox):\n",
        "    def __init__(self, id, expression):\n",
        "          self.id = id\n",
        "          self.expression = expression\n",
        "\n",
        "    def eval(self):\n",
        "         return self.id +\" = \" + str(self.expression.eval())\n"
      ],
      "metadata": {
        "id": "a5eJXLgGXQSN"
      },
      "execution_count": 22,
      "outputs": []
    },
    {
      "cell_type": "markdown",
      "source": [
        "3) Implementação analisador sintático"
      ],
      "metadata": {
        "id": "Hs7hhlB6Ybmi"
      }
    },
    {
      "cell_type": "code",
      "metadata": {
        "id": "AohGQ2yWKDli"
      },
      "source": [
        "from rply import ParserGenerator\n",
        "\n",
        "pg = ParserGenerator(\n",
        "    # A list of all token names, accepted by the lexer.\n",
        "    ['NUMBER', 'OPEN_PARENS', 'CLOSE_PARENS',\n",
        "     'PLUS', 'MINUS', 'MUL', 'DIV', 'ID','EQUALS', 'DELIM'\n",
        "    ],\n",
        "    # A list of precedence rules with ascending precedence, to\n",
        "    # disambiguate ambiguous production rules.\n",
        "    precedence=[\n",
        "        ('left', ['PLUS', 'MINUS']),\n",
        "        ('left', ['MUL', 'DIV'])\n",
        "    ]\n",
        ")\n",
        "\n",
        "@pg.production('atrib : ID EQUALS expression DELIM')\n",
        "def atrib(p):\n",
        "    id = p[0].getstr()\n",
        "    expression = p[2]\n",
        "    return Attribution(id,expression)\n",
        "\n",
        "@pg.production('expression : NUMBER')\n",
        "def expression_number(p):\n",
        "    # p is a list of the pieces matched by the right hand side of the\n",
        "    # rule\n",
        "    return Number(int(p[0].getstr()))\n",
        "\n",
        "\n",
        "@pg.production('expression : OPEN_PARENS expression CLOSE_PARENS')\n",
        "def expression_parens(p):\n",
        "    return p[1]\n",
        "\n",
        "@pg.production('expression : expression PLUS expression')\n",
        "@pg.production('expression : expression MINUS expression')\n",
        "@pg.production('expression : expression MUL expression')\n",
        "@pg.production('expression : expression DIV expression')\n",
        "def expression_binop(p):\n",
        "    left = p[0]\n",
        "    right = p[2]\n",
        "    if p[1].gettokentype() == 'PLUS':\n",
        "        return Add(left, right)\n",
        "    elif p[1].gettokentype() == 'MINUS':\n",
        "        return Sub(left, right)\n",
        "    elif p[1].gettokentype() == 'MUL':\n",
        "        return Mul(left, right)\n",
        "    elif p[1].gettokentype() == 'DIV':\n",
        "        return Div(left, right)\n",
        "    else:\n",
        "        raise AssertionError('Oops, this should not be possible!')\n",
        "\n",
        "parser = pg.build()\n"
      ],
      "execution_count": 23,
      "outputs": []
    },
    {
      "cell_type": "code",
      "source": [
        "parser.parse(lexer.lex('x = 2*4;')).eval()"
      ],
      "metadata": {
        "colab": {
          "base_uri": "https://localhost:8080/",
          "height": 35
        },
        "id": "DQFRBNI0Yg6K",
        "outputId": "1265e392-db80-4006-86df-e45cca95153e"
      },
      "execution_count": 24,
      "outputs": [
        {
          "output_type": "execute_result",
          "data": {
            "text/plain": [
              "'x  = 8'"
            ],
            "application/vnd.google.colaboratory.intrinsic+json": {
              "type": "string"
            }
          },
          "metadata": {},
          "execution_count": 24
        }
      ]
    },
    {
      "cell_type": "markdown",
      "metadata": {
        "id": "2jqRKa4zKMge"
      },
      "source": [
        "**ATIVIDADE EAD**\n",
        "\n",
        "Implemente um analisador sintático para a gramática modificada do exercício anterior:\n",
        "\n",
        "1.   Modifique a gramática anterior para permitir expressões envolvendo exponenciação (ˆ). Por exemplo: x = 2ˆ3.\n",
        "2.   Implente um analisador sintático para reconhecer ou recusar operações de exponenciação.\n",
        "\n"
      ]
    },
    {
      "cell_type": "code",
      "source": [
        "from rply import LexerGenerator\n",
        "\n",
        "lg = LexerGenerator()\n",
        "\n",
        "lg.add('NUMBER', r'\\d+')\n",
        "lg.add('PLUS', r'\\+')\n",
        "lg.add('ID', r'[a-z A-Z][a-z A-Z\\d]*')\n",
        "lg.add('EQUALS', r'=')\n",
        "lg.add('EXPONENTIAL', r'ˆ')\n",
        "lg.add('DELIM', r';')\n",
        "lg.add('MINUS', r'-')\n",
        "lg.add('MUL', r'\\*')\n",
        "lg.add('DIV', r'/')\n",
        "lg.add('OPEN_PARENS', r'\\(')\n",
        "lg.add('CLOSE_PARENS', r'\\)')\n",
        "\n",
        "lg.ignore('\\s+')\n",
        "\n",
        "lexer = lg.build()"
      ],
      "metadata": {
        "id": "Hms9kYJJdVKZ"
      },
      "execution_count": 25,
      "outputs": []
    },
    {
      "cell_type": "code",
      "source": [
        "from rply.token import BaseBox\n",
        "\n",
        "class Number(BaseBox):\n",
        "    def __init__(self, value):\n",
        "        self.value = value\n",
        "\n",
        "    def eval(self):\n",
        "        return self.value\n",
        "\n",
        "class BinaryOp(BaseBox):\n",
        "    def __init__(self, left, right):\n",
        "        self.left = left\n",
        "        self.right = right\n",
        "\n",
        "class Add(BinaryOp):\n",
        "    def eval(self):\n",
        "        return self.left.eval() + self.right.eval()\n",
        "\n",
        "class Sub(BinaryOp):\n",
        "    def eval(self):\n",
        "        return self.left.eval() - self.right.eval()\n",
        "\n",
        "class Mul(BinaryOp):\n",
        "    def eval(self):\n",
        "        return self.left.eval() * self.right.eval()\n",
        "\n",
        "class Div(BinaryOp):\n",
        "    def eval(self):\n",
        "        return self.left.eval() / self.right.eval()\n",
        "\n",
        "class Exp(BinaryOp):\n",
        "    def eval(self):\n",
        "        return self.left.eval() ** self.right.eval()\n",
        "\n",
        "class Attribution(BaseBox):\n",
        "    def __init__(self, id, expression):\n",
        "          self.id = id\n",
        "          self.expression = expression\n",
        "\n",
        "    def eval(self):\n",
        "         return self.id +\" = \" + str(self.expression.eval())\n"
      ],
      "metadata": {
        "id": "6hj0Uz3_dlog"
      },
      "execution_count": 33,
      "outputs": []
    },
    {
      "cell_type": "code",
      "source": [
        "from rply import ParserGenerator\n",
        "\n",
        "pg = ParserGenerator(\n",
        "    # A list of all token names, accepted by the lexer.\n",
        "    ['NUMBER', 'OPEN_PARENS', 'CLOSE_PARENS',\n",
        "     'PLUS', 'MINUS', 'MUL', 'DIV', 'ID','EQUALS', 'DELIM', 'EXPONENTIAL'\n",
        "    ],\n",
        "    # A list of precedence rules with ascending precedence, to\n",
        "    # disambiguate ambiguous production rules.\n",
        "    precedence=[\n",
        "        ('left', ['PLUS', 'MINUS']),\n",
        "        ('left', ['MUL', 'DIV']),\n",
        "        ('left', ['EXPONENTIAL'])\n",
        "    ]\n",
        ")\n",
        "\n",
        "@pg.production('atrib : ID EQUALS expression DELIM')\n",
        "def atrib(p):\n",
        "    id = p[0].getstr()\n",
        "    expression = p[2]\n",
        "    return Attribution(id,expression)\n",
        "\n",
        "@pg.production('expression : NUMBER')\n",
        "def expression_number(p):\n",
        "    # p is a list of the pieces matched by the right hand side of the\n",
        "    # rule\n",
        "    return Number(int(p[0].getstr()))\n",
        "\n",
        "\n",
        "@pg.production('expression : OPEN_PARENS expression CLOSE_PARENS')\n",
        "def expression_parens(p):\n",
        "    return p[1]\n",
        "\n",
        "@pg.production('expression : expression PLUS expression')\n",
        "@pg.production('expression : expression MINUS expression')\n",
        "@pg.production('expression : expression MUL expression')\n",
        "@pg.production('expression : expression DIV expression')\n",
        "@pg.production('expression : expression EXPONENTIAL expression')\n",
        "def expression_binop(p):\n",
        "    left = p[0]\n",
        "    right = p[2]\n",
        "    if p[1].gettokentype() == 'PLUS':\n",
        "        return Add(left, right)\n",
        "    elif p[1].gettokentype() == 'MINUS':\n",
        "        return Sub(left, right)\n",
        "    elif p[1].gettokentype() == 'MUL':\n",
        "        return Mul(left, right)\n",
        "    elif p[1].gettokentype() == 'DIV':\n",
        "        return Div(left, right)\n",
        "    elif p[1].gettokentype() == 'EXPONENTIAL':\n",
        "        return Exp(left, right)\n",
        "    else:\n",
        "        raise AssertionError('Oops, this should not be possible!')\n",
        "\n",
        "parser = pg.build()\n"
      ],
      "metadata": {
        "id": "xShF0rB1dvVa"
      },
      "execution_count": 34,
      "outputs": []
    },
    {
      "cell_type": "code",
      "source": [
        "parser.parse(lexer.lex('x = 2ˆ2;')).eval()"
      ],
      "metadata": {
        "colab": {
          "base_uri": "https://localhost:8080/",
          "height": 35
        },
        "id": "veMa1Hi0d-dG",
        "outputId": "7a8029ff-11a7-4ce4-c11d-6d8f37e8b7f7"
      },
      "execution_count": 35,
      "outputs": [
        {
          "output_type": "execute_result",
          "data": {
            "text/plain": [
              "'x  = 4'"
            ],
            "application/vnd.google.colaboratory.intrinsic+json": {
              "type": "string"
            }
          },
          "metadata": {},
          "execution_count": 35
        }
      ]
    }
  ]
}